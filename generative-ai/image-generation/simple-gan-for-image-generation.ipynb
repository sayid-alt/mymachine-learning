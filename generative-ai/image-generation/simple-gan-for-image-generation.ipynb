{
 "cells": [
  {
   "cell_type": "code",
   "execution_count": 1,
   "id": "afaf3337",
   "metadata": {
    "_cell_guid": "b1076dfc-b9ad-4769-8c92-a6c4dae69d19",
    "_uuid": "8f2839f25d086af736a60e9eeb907d3b93b6e0e5",
    "execution": {
     "iopub.execute_input": "2024-11-29T23:22:55.108963Z",
     "iopub.status.busy": "2024-11-29T23:22:55.108703Z",
     "iopub.status.idle": "2024-11-29T23:22:59.377842Z",
     "shell.execute_reply": "2024-11-29T23:22:59.377172Z"
    },
    "papermill": {
     "duration": 4.274808,
     "end_time": "2024-11-29T23:22:59.379901",
     "exception": false,
     "start_time": "2024-11-29T23:22:55.105093",
     "status": "completed"
    },
    "tags": []
   },
   "outputs": [],
   "source": [
    "import torch\n",
    "import torch.nn as nn\n",
    "import torch.optim as optim\n",
    "from torchvision import datasets, transforms\n",
    "import matplotlib.pyplot as plt"
   ]
  },
  {
   "cell_type": "code",
   "execution_count": 2,
   "id": "e3be88b5",
   "metadata": {
    "execution": {
     "iopub.execute_input": "2024-11-29T23:22:59.385701Z",
     "iopub.status.busy": "2024-11-29T23:22:59.385348Z",
     "iopub.status.idle": "2024-11-29T23:22:59.389060Z",
     "shell.execute_reply": "2024-11-29T23:22:59.388376Z"
    },
    "papermill": {
     "duration": 0.008192,
     "end_time": "2024-11-29T23:22:59.390611",
     "exception": false,
     "start_time": "2024-11-29T23:22:59.382419",
     "status": "completed"
    },
    "tags": []
   },
   "outputs": [],
   "source": [
    "latent_dim = 100\n",
    "hidden_dim = 256\n",
    "image_dim = 28 * 28\n",
    "batch_size = 64\n",
    "learning_rate = 0.0002\n",
    "num_epochs = 50"
   ]
  },
  {
   "cell_type": "code",
   "execution_count": 3,
   "id": "a3e38618",
   "metadata": {
    "execution": {
     "iopub.execute_input": "2024-11-29T23:22:59.395737Z",
     "iopub.status.busy": "2024-11-29T23:22:59.395026Z",
     "iopub.status.idle": "2024-11-29T23:23:01.702144Z",
     "shell.execute_reply": "2024-11-29T23:23:01.701212Z"
    },
    "papermill": {
     "duration": 2.312296,
     "end_time": "2024-11-29T23:23:01.704837",
     "exception": false,
     "start_time": "2024-11-29T23:22:59.392541",
     "status": "completed"
    },
    "tags": []
   },
   "outputs": [
    {
     "name": "stdout",
     "output_type": "stream",
     "text": [
      "Downloading http://yann.lecun.com/exdb/mnist/train-images-idx3-ubyte.gz\n",
      "Failed to download (trying next):\n",
      "HTTP Error 403: Forbidden\n",
      "\n",
      "Downloading https://ossci-datasets.s3.amazonaws.com/mnist/train-images-idx3-ubyte.gz\n",
      "Downloading https://ossci-datasets.s3.amazonaws.com/mnist/train-images-idx3-ubyte.gz to ./data/MNIST/raw/train-images-idx3-ubyte.gz\n"
     ]
    },
    {
     "name": "stderr",
     "output_type": "stream",
     "text": [
      "100%|██████████| 9912422/9912422 [00:00<00:00, 54970840.82it/s]\n"
     ]
    },
    {
     "name": "stdout",
     "output_type": "stream",
     "text": [
      "Extracting ./data/MNIST/raw/train-images-idx3-ubyte.gz to ./data/MNIST/raw\n",
      "\n",
      "Downloading http://yann.lecun.com/exdb/mnist/train-labels-idx1-ubyte.gz\n",
      "Failed to download (trying next):\n",
      "HTTP Error 403: Forbidden\n",
      "\n",
      "Downloading https://ossci-datasets.s3.amazonaws.com/mnist/train-labels-idx1-ubyte.gz\n",
      "Downloading https://ossci-datasets.s3.amazonaws.com/mnist/train-labels-idx1-ubyte.gz to ./data/MNIST/raw/train-labels-idx1-ubyte.gz\n"
     ]
    },
    {
     "name": "stderr",
     "output_type": "stream",
     "text": [
      "100%|██████████| 28881/28881 [00:00<00:00, 1546834.38it/s]"
     ]
    },
    {
     "name": "stdout",
     "output_type": "stream",
     "text": [
      "Extracting ./data/MNIST/raw/train-labels-idx1-ubyte.gz to ./data/MNIST/raw\n",
      "\n",
      "Downloading http://yann.lecun.com/exdb/mnist/t10k-images-idx3-ubyte.gz\n"
     ]
    },
    {
     "name": "stderr",
     "output_type": "stream",
     "text": [
      "\n"
     ]
    },
    {
     "name": "stdout",
     "output_type": "stream",
     "text": [
      "Failed to download (trying next):\n",
      "HTTP Error 403: Forbidden\n",
      "\n",
      "Downloading https://ossci-datasets.s3.amazonaws.com/mnist/t10k-images-idx3-ubyte.gz\n",
      "Downloading https://ossci-datasets.s3.amazonaws.com/mnist/t10k-images-idx3-ubyte.gz to ./data/MNIST/raw/t10k-images-idx3-ubyte.gz\n"
     ]
    },
    {
     "name": "stderr",
     "output_type": "stream",
     "text": [
      "100%|██████████| 1648877/1648877 [00:00<00:00, 13606486.59it/s]\n"
     ]
    },
    {
     "name": "stdout",
     "output_type": "stream",
     "text": [
      "Extracting ./data/MNIST/raw/t10k-images-idx3-ubyte.gz to ./data/MNIST/raw\n",
      "\n",
      "Downloading http://yann.lecun.com/exdb/mnist/t10k-labels-idx1-ubyte.gz\n",
      "Failed to download (trying next):\n",
      "HTTP Error 403: Forbidden\n",
      "\n",
      "Downloading https://ossci-datasets.s3.amazonaws.com/mnist/t10k-labels-idx1-ubyte.gz\n",
      "Downloading https://ossci-datasets.s3.amazonaws.com/mnist/t10k-labels-idx1-ubyte.gz to ./data/MNIST/raw/t10k-labels-idx1-ubyte.gz\n"
     ]
    },
    {
     "name": "stderr",
     "output_type": "stream",
     "text": [
      "100%|██████████| 4542/4542 [00:00<00:00, 2351046.37it/s]"
     ]
    },
    {
     "name": "stdout",
     "output_type": "stream",
     "text": [
      "Extracting ./data/MNIST/raw/t10k-labels-idx1-ubyte.gz to ./data/MNIST/raw\n",
      "\n"
     ]
    },
    {
     "name": "stderr",
     "output_type": "stream",
     "text": [
      "\n"
     ]
    }
   ],
   "source": [
    "transform = transforms.Compose([transforms.ToTensor(), transforms.Normalize((0.5,), (0.5,))])\n",
    "train_dataset = datasets.MNIST(root='./data', train=True, transform=transform, download=True)\n",
    "train_loader = torch.utils.data.DataLoader(dataset=train_dataset, batch_size=batch_size, shuffle=True)\n"
   ]
  },
  {
   "cell_type": "code",
   "execution_count": 4,
   "id": "1141e875",
   "metadata": {
    "execution": {
     "iopub.execute_input": "2024-11-29T23:23:01.712823Z",
     "iopub.status.busy": "2024-11-29T23:23:01.712557Z",
     "iopub.status.idle": "2024-11-29T23:23:01.717669Z",
     "shell.execute_reply": "2024-11-29T23:23:01.716899Z"
    },
    "papermill": {
     "duration": 0.010896,
     "end_time": "2024-11-29T23:23:01.719265",
     "exception": false,
     "start_time": "2024-11-29T23:23:01.708369",
     "status": "completed"
    },
    "tags": []
   },
   "outputs": [],
   "source": [
    "class Generator(nn.Module):\n",
    "    def __init__(self):\n",
    "        super(Generator, self).__init__()\n",
    "        self.model = nn.Sequential(\n",
    "            nn.Linear(latent_dim, hidden_dim),\n",
    "            nn.ReLU(True),\n",
    "            nn.Linear(hidden_dim, hidden_dim),\n",
    "            nn.ReLU(True),\n",
    "            nn.Linear(hidden_dim, image_dim),\n",
    "            nn.Tanh()\n",
    "        )\n",
    " \n",
    "    def forward(self, z):\n",
    "        img = self.model(z)\n",
    "        img = img.view(img.size(0), 1, 28, 28)\n",
    "        return img\n"
   ]
  },
  {
   "cell_type": "code",
   "execution_count": 5,
   "id": "07854923",
   "metadata": {
    "execution": {
     "iopub.execute_input": "2024-11-29T23:23:01.726611Z",
     "iopub.status.busy": "2024-11-29T23:23:01.726324Z",
     "iopub.status.idle": "2024-11-29T23:23:01.731994Z",
     "shell.execute_reply": "2024-11-29T23:23:01.731332Z"
    },
    "papermill": {
     "duration": 0.011125,
     "end_time": "2024-11-29T23:23:01.733556",
     "exception": false,
     "start_time": "2024-11-29T23:23:01.722431",
     "status": "completed"
    },
    "tags": []
   },
   "outputs": [],
   "source": [
    "class Discriminator(nn.Module):\n",
    "    def __init__(self):\n",
    "        super(Discriminator, self).__init__()\n",
    "        self.model = nn.Sequential(\n",
    "            nn.Linear(image_dim, hidden_dim),\n",
    "            nn.LeakyReLU(0.2, inplace=True),\n",
    "            nn.Linear(hidden_dim, hidden_dim),\n",
    "            nn.LeakyReLU(0.2, inplace=True),\n",
    "            nn.Linear(hidden_dim, 1),\n",
    "            nn.Sigmoid()\n",
    "        )\n",
    " \n",
    "    def forward(self, img):\n",
    "        img_flat = img.view(img.size(0), -1)\n",
    "        validity = self.model(img_flat)\n",
    "        return validity\n"
   ]
  },
  {
   "cell_type": "code",
   "execution_count": 6,
   "id": "37ab29d9",
   "metadata": {
    "execution": {
     "iopub.execute_input": "2024-11-29T23:23:01.741739Z",
     "iopub.status.busy": "2024-11-29T23:23:01.741490Z",
     "iopub.status.idle": "2024-11-29T23:23:01.760900Z",
     "shell.execute_reply": "2024-11-29T23:23:01.760101Z"
    },
    "papermill": {
     "duration": 0.025986,
     "end_time": "2024-11-29T23:23:01.762575",
     "exception": false,
     "start_time": "2024-11-29T23:23:01.736589",
     "status": "completed"
    },
    "tags": []
   },
   "outputs": [],
   "source": [
    "generator = Generator()\n",
    "discriminator = Discriminator()\n",
    "\n",
    "# Optimizers\n",
    "optimizer_G = optim.Adam(generator.parameters(), lr=learning_rate)\n",
    "optimizer_D = optim.Adam(discriminator.parameters(), lr=learning_rate)\n",
    " \n",
    "# Loss function\n",
    "adversarial_loss = nn.BCELoss()\n"
   ]
  },
  {
   "cell_type": "code",
   "execution_count": 7,
   "id": "ca69423a",
   "metadata": {
    "execution": {
     "iopub.execute_input": "2024-11-29T23:23:01.769882Z",
     "iopub.status.busy": "2024-11-29T23:23:01.769639Z",
     "iopub.status.idle": "2024-11-29T23:37:04.617938Z",
     "shell.execute_reply": "2024-11-29T23:37:04.617072Z"
    },
    "papermill": {
     "duration": 842.859512,
     "end_time": "2024-11-29T23:37:04.625194",
     "exception": false,
     "start_time": "2024-11-29T23:23:01.765682",
     "status": "completed"
    },
    "tags": []
   },
   "outputs": [
    {
     "name": "stdout",
     "output_type": "stream",
     "text": [
      "Epoch 1/50, D Loss: 0.022242479026317596, G Loss: 3.623379707336426\n",
      "Epoch 2/50, D Loss: 0.0778350904583931, G Loss: 3.513376474380493\n",
      "Epoch 3/50, D Loss: 0.2223629653453827, G Loss: 2.5282363891601562\n",
      "Epoch 4/50, D Loss: 0.2401762455701828, G Loss: 3.3728530406951904\n",
      "Epoch 5/50, D Loss: 0.14493440091609955, G Loss: 3.3269128799438477\n",
      "Epoch 6/50, D Loss: 0.137038454413414, G Loss: 3.115438461303711\n",
      "Epoch 7/50, D Loss: 0.01747024804353714, G Loss: 5.636122703552246\n",
      "Epoch 8/50, D Loss: 0.03159302473068237, G Loss: 4.511980056762695\n",
      "Epoch 9/50, D Loss: 0.2517545223236084, G Loss: 5.700190544128418\n",
      "Epoch 10/50, D Loss: 0.13186654448509216, G Loss: 2.936033010482788\n",
      "Epoch 11/50, D Loss: 0.3176342248916626, G Loss: 1.9788159132003784\n",
      "Epoch 12/50, D Loss: 0.09556079655885696, G Loss: 3.7738282680511475\n",
      "Epoch 13/50, D Loss: 0.12975814938545227, G Loss: 3.9859519004821777\n",
      "Epoch 14/50, D Loss: 0.15420770645141602, G Loss: 4.719261646270752\n",
      "Epoch 15/50, D Loss: 0.30905258655548096, G Loss: 3.552838087081909\n",
      "Epoch 16/50, D Loss: 0.10728999972343445, G Loss: 3.323068141937256\n",
      "Epoch 17/50, D Loss: 0.054732903838157654, G Loss: 4.992251873016357\n",
      "Epoch 18/50, D Loss: 0.11234308779239655, G Loss: 3.3568012714385986\n",
      "Epoch 19/50, D Loss: 0.0978480875492096, G Loss: 3.5188307762145996\n",
      "Epoch 20/50, D Loss: 0.40538451075553894, G Loss: 4.471472263336182\n",
      "Epoch 21/50, D Loss: 0.16852587461471558, G Loss: 3.051377296447754\n",
      "Epoch 22/50, D Loss: 0.24628466367721558, G Loss: 3.220733404159546\n",
      "Epoch 23/50, D Loss: 0.20430020987987518, G Loss: 2.4436023235321045\n",
      "Epoch 24/50, D Loss: 0.21454662084579468, G Loss: 3.3230252265930176\n",
      "Epoch 25/50, D Loss: 0.19915902614593506, G Loss: 4.1115641593933105\n",
      "Epoch 26/50, D Loss: 0.1717410534620285, G Loss: 3.506054162979126\n",
      "Epoch 27/50, D Loss: 0.491321861743927, G Loss: 1.2852569818496704\n",
      "Epoch 28/50, D Loss: 0.2528240382671356, G Loss: 2.7426373958587646\n",
      "Epoch 29/50, D Loss: 0.29437077045440674, G Loss: 1.9680362939834595\n",
      "Epoch 30/50, D Loss: 0.25708237290382385, G Loss: 4.156207084655762\n",
      "Epoch 31/50, D Loss: 0.2730492651462555, G Loss: 4.849184513092041\n",
      "Epoch 32/50, D Loss: 0.18611058592796326, G Loss: 2.661224842071533\n",
      "Epoch 33/50, D Loss: 0.39957690238952637, G Loss: 1.993511438369751\n",
      "Epoch 34/50, D Loss: 0.3769691288471222, G Loss: 2.4356303215026855\n",
      "Epoch 35/50, D Loss: 0.32981324195861816, G Loss: 3.11873722076416\n",
      "Epoch 36/50, D Loss: 0.30798688530921936, G Loss: 2.243596315383911\n",
      "Epoch 37/50, D Loss: 0.19538885354995728, G Loss: 3.749786853790283\n",
      "Epoch 38/50, D Loss: 0.3296259641647339, G Loss: 2.9386823177337646\n",
      "Epoch 39/50, D Loss: 0.3337128162384033, G Loss: 3.058919906616211\n",
      "Epoch 40/50, D Loss: 0.2744812071323395, G Loss: 1.999833345413208\n",
      "Epoch 41/50, D Loss: 0.3536527752876282, G Loss: 3.4410550594329834\n",
      "Epoch 42/50, D Loss: 0.23268675804138184, G Loss: 2.4031484127044678\n",
      "Epoch 43/50, D Loss: 0.21446733176708221, G Loss: 2.795381784439087\n",
      "Epoch 44/50, D Loss: 0.20906783640384674, G Loss: 2.281981945037842\n",
      "Epoch 45/50, D Loss: 0.435566246509552, G Loss: 1.9422208070755005\n",
      "Epoch 46/50, D Loss: 0.38064852356910706, G Loss: 2.6853866577148438\n",
      "Epoch 47/50, D Loss: 0.1930324137210846, G Loss: 2.601057529449463\n",
      "Epoch 48/50, D Loss: 0.21793583035469055, G Loss: 2.5832290649414062\n",
      "Epoch 49/50, D Loss: 0.2500128448009491, G Loss: 2.3945956230163574\n",
      "Epoch 50/50, D Loss: 0.3791777193546295, G Loss: 1.7001965045928955\n"
     ]
    }
   ],
   "source": [
    "for epoch in range(num_epochs):\n",
    "    for i, (imgs, _) in enumerate(train_loader):\n",
    "        valid = torch.ones(imgs.size(0), 1)\n",
    "        fake = torch.zeros(imgs.size(0), 1)\n",
    " \n",
    "        real_imgs = imgs\n",
    " \n",
    "        # Train Generator\n",
    "        optimizer_G.zero_grad()\n",
    "        z = torch.randn(imgs.size(0), latent_dim)\n",
    "        gen_imgs = generator(z)\n",
    "        g_loss = adversarial_loss(discriminator(gen_imgs), valid)\n",
    "        g_loss.backward()\n",
    "        optimizer_G.step()\n",
    " \n",
    "        # Train Discriminator\n",
    "        optimizer_D.zero_grad()\n",
    "        real_loss = adversarial_loss(discriminator(real_imgs), valid)\n",
    "        fake_loss = adversarial_loss(discriminator(gen_imgs.detach()), fake)\n",
    "        d_loss = (real_loss + fake_loss) / 2\n",
    "        d_loss.backward()\n",
    "        optimizer_D.step()\n",
    " \n",
    "    print(f'Epoch {epoch + 1}/{num_epochs}, D Loss: {d_loss.item()}, G Loss: {g_loss.item()}')\n"
   ]
  },
  {
   "cell_type": "code",
   "execution_count": 8,
   "id": "fb51606f",
   "metadata": {
    "execution": {
     "iopub.execute_input": "2024-11-29T23:37:04.636754Z",
     "iopub.status.busy": "2024-11-29T23:37:04.636467Z",
     "iopub.status.idle": "2024-11-29T23:37:05.003679Z",
     "shell.execute_reply": "2024-11-29T23:37:05.002407Z"
    },
    "papermill": {
     "duration": 0.376451,
     "end_time": "2024-11-29T23:37:05.006867",
     "exception": false,
     "start_time": "2024-11-29T23:37:04.630416",
     "status": "completed"
    },
    "tags": []
   },
   "outputs": [
    {
     "data": {
      "image/png": "[encoded data removed]",
      "text/plain": [
       "<Figure size 1000x100 with 10 Axes>"
      ]
     },
     "metadata": {},
     "output_type": "display_data"
    }
   ],
   "source": [
    "def generate_images(generator, num_images, latent_dim):\n",
    "    # Menentukan status generator menjadi evaluation mode\n",
    "    generator.eval()\n",
    " \n",
    "    # Generate random noise\n",
    "    z = torch.randn(num_images, latent_dim)\n",
    " \n",
    "    # Generate images from noise\n",
    "    gen_imgs = generator(z)\n",
    " \n",
    "    # Rescale images menjadi rentang [0, 1]\n",
    "    gen_imgs = 0.5 * gen_imgs + 0.5\n",
    " \n",
    "    # Plot the generated images\n",
    "    fig, axs = plt.subplots(1, num_images, figsize=(num_images, 1))\n",
    "    for i in range(num_images):\n",
    "        axs[i].imshow(gen_imgs[i].detach().numpy().squeeze(), cmap='gray')\n",
    "        axs[i].axis('off')\n",
    "    plt.show()\n",
    " \n",
    "# Generate dan menampilkan 10 gambar baru\n",
    "generate_images(generator, 10, latent_dim)\n"
   ]
  },
  {
   "cell_type": "code",
   "execution_count": null,
   "id": "a69fb009",
   "metadata": {
    "papermill": {
     "duration": 0.016643,
     "end_time": "2024-11-29T23:37:05.040452",
     "exception": false,
     "start_time": "2024-11-29T23:37:05.023809",
     "status": "completed"
    },
    "tags": []
   },
   "outputs": [],
   "source": []
  }
 ],
 "metadata": {
  "kaggle": {
   "accelerator": "gpu",
   "dataSources": [],
   "dockerImageVersionId": 30787,
   "isGpuEnabled": true,
   "isInternetEnabled": true,
   "language": "python",
   "sourceType": "notebook"
  },
  "kernelspec": {
   "display_name": "Python 3",
   "language": "python",
   "name": "python3"
  },
  "language_info": {
   "codemirror_mode": {
    "name": "ipython",
    "version": 3
   },
   "file_extension": ".py",
   "mimetype": "text/x-python",
   "name": "python",
   "nbconvert_exporter": "python",
   "pygments_lexer": "ipython3",
   "version": "3.10.14"
  },
  "papermill": {
   "default_parameters": {},
   "duration": 853.455289,
   "end_time": "2024-11-29T23:37:06.177493",
   "environment_variables": {},
   "exception": null,
   "input_path": "__notebook__.ipynb",
   "output_path": "__notebook__.ipynb",
   "parameters": {},
   "start_time": "2024-11-29T23:22:52.722204",
   "version": "2.6.0"
  }
 },
 "nbformat": 4,
 "nbformat_minor": 5
}
