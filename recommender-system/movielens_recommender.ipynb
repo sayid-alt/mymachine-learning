{
 "cells": [
  {
   "cell_type": "markdown",
   "metadata": {
    "colab_type": "text",
    "id": "view-in-github"
   },
   "source": [
    "<a href=\"https://colab.research.google.com/github/sayid-alt/mymachine-learning/blob/main/recommender-system/movielens_recommender.ipynb\" target=\"_parent\"><img src=\"https://colab.research.google.com/assets/colab-badge.svg\" alt=\"Open In Colab\"/></a>"
   ]
  },
  {
   "cell_type": "markdown",
   "metadata": {
    "id": "jVlRIurYawgT"
   },
   "source": [
    "# **IMPORT LIBRARY**"
   ]
  },
  {
   "cell_type": "code",
   "execution_count": 1,
   "metadata": {
    "colab": {
     "base_uri": "https://localhost:8080/"
    },
    "id": "0s0P1LYuaTED",
    "outputId": "74b17d2b-223a-4598-a1d9-044757555a79"
   },
   "outputs": [
    {
     "name": "stdout",
     "output_type": "stream",
     "text": [
      "WARNING:tensorflow:From /Users/heykalsayid/.local/share/virtualenvs/tutorials-ObfZMRtq/lib/python3.10/site-packages/tensorflow/python/compat/v2_compat.py:98: disable_resource_variables (from tensorflow.python.ops.resource_variables_toggle) is deprecated and will be removed in a future version.\n",
      "Instructions for updating:\n",
      "non-resource variables are not supported in the long term\n"
     ]
    }
   ],
   "source": [
    "import numpy as np\n",
    "import pandas as pd\n",
    "import collections\n",
    "from mpl_toolkits.mplot3d import Axes3D\n",
    "from IPython import display\n",
    "from matplotlib import pyplot as plt\n",
    "import sklearn\n",
    "import sklearn.manifold\n",
    "import tensorflow.compat.v1 as tf\n",
    "tf.disable_v2_behavior()\n",
    "tf.logging.set_verbosity(tf.logging.ERROR)\n",
    "import altair as alt\n",
    "import warnings\n",
    "warnings.filterwarnings('ignore')"
   ]
  },
  {
   "cell_type": "code",
   "execution_count": 2,
   "metadata": {
    "colab": {
     "base_uri": "https://localhost:8080/"
    },
    "id": "eFRcYtYcapfy",
    "outputId": "274ab106-e522-4815-f06e-f7cdb0ec088f"
   },
   "outputs": [
    {
     "data": {
      "text/plain": [
       "RendererRegistry.enable('mimetype')"
      ]
     },
     "execution_count": 2,
     "metadata": {},
     "output_type": "execute_result"
    }
   ],
   "source": [
    "alt.data_transformers.enable('default', max_rows=None)\n",
    "\n",
    "alt.renderers.enable('mimetype')"
   ]
  },
  {
   "cell_type": "code",
   "execution_count": 3,
   "metadata": {
    "colab": {
     "base_uri": "https://localhost:8080/"
    },
    "id": "bNnGvYlp97js",
    "outputId": "2ecbb06a-eb3d-44c1-c9cd-bbdf4ff10052"
   },
   "outputs": [],
   "source": [
    "# alt.renderers.enable('colab')"
   ]
  },
  {
   "cell_type": "markdown",
   "metadata": {
    "id": "um8Gz-g4cIvp"
   },
   "source": [
    "# **DOWNLOAD MOVIELENS DATA**"
   ]
  },
  {
   "cell_type": "code",
   "execution_count": 4,
   "metadata": {
    "colab": {
     "base_uri": "https://localhost:8080/"
    },
    "id": "qTX64Redayyv",
    "outputId": "a8d53058-8ae8-4c24-b2c3-13e0830eb966"
   },
   "outputs": [
    {
     "name": "stdout",
     "output_type": "stream",
     "text": [
      "Downloading movielens data...\n",
      "Done.\n",
      "b'943 users\\n1682 items\\n100000 ratings\\n'\n"
     ]
    }
   ],
   "source": [
    "print('Downloading movielens data...')\n",
    "from urllib.request import urlretrieve\n",
    "import zipfile\n",
    "\n",
    "urlretrieve(\"http://files.grouplens.org/datasets/movielens/ml-100k.zip\", 'movielens.zip')\n",
    "zip_ref = zipfile.ZipFile('movielens.zip', 'r')\n",
    "zip_ref.extractall()\n",
    "print('Done.')\n",
    "print(zip_ref.read('ml-100k/u.info'))"
   ]
  },
  {
   "cell_type": "markdown",
   "metadata": {
    "id": "_xEXG0Wvc5Ho"
   },
   "source": [
    "# **LOAD DATASETS**"
   ]
  },
  {
   "cell_type": "code",
   "execution_count": 5,
   "metadata": {
    "id": "xZCNOPwUcgMi"
   },
   "outputs": [],
   "source": [
    "users_cols = ['user_id', 'age', 'sex', 'occupation', 'zip_code']\n",
    "users = pd.read_csv('ml-100k/u.user', sep='|', names=users_cols, encoding='latin-1')\n",
    "\n",
    "ratings_cols = ['user_id', 'movie_id', 'rating', 'unix_timestamp']\n",
    "ratings = pd.read_csv('ml-100k/u.data', sep='\\t', names=ratings_cols, encoding='latin-1')\n",
    "\n",
    "genre_cols = [\n",
    "    \"genre_unknown\", \"Action\", \"Adventure\", \"Animation\", \"Children\", \"Comedy\",\n",
    "    \"Crime\", \"Documentary\", \"Drama\", \"Fantasy\", \"Film-Noir\", \"Horror\",\n",
    "    \"Musical\", \"Mystery\", \"Romance\", \"Sci-Fi\", \"Thriller\", \"War\", \"Western\"\n",
    "]\n",
    "\n",
    "movies_cols = [\n",
    "    'movie_id', 'title', 'release_date', \"video_release_date\", \"imdb_url\"\n",
    "] + genre_cols\n",
    "\n",
    "movies = pd.read_csv(\n",
    "    'ml-100k/u.item', sep='|', names=movies_cols, encoding='latin-1'\n",
    ")\n"
   ]
  },
  {
   "cell_type": "code",
   "execution_count": 6,
   "metadata": {
    "colab": {
     "base_uri": "https://localhost:8080/",
     "height": 394
    },
    "id": "H5_g8pKWdnXw",
    "outputId": "46613841-4be9-4749-d418-9cbdcaa2fab7"
   },
   "outputs": [
    {
     "data": {
      "text/html": [
       "<div>\n",
       "<style scoped>\n",
       "    .dataframe tbody tr th:only-of-type {\n",
       "        vertical-align: middle;\n",
       "    }\n",
       "\n",
       "    .dataframe tbody tr th {\n",
       "        vertical-align: top;\n",
       "    }\n",
       "\n",
       "    .dataframe thead th {\n",
       "        text-align: right;\n",
       "    }\n",
       "</style>\n",
       "<table border=\"1\" class=\"dataframe\">\n",
       "  <thead>\n",
       "    <tr style=\"text-align: right;\">\n",
       "      <th></th>\n",
       "      <th>movie_id</th>\n",
       "      <th>title</th>\n",
       "      <th>release_date</th>\n",
       "      <th>video_release_date</th>\n",
       "      <th>imdb_url</th>\n",
       "      <th>genre_unknown</th>\n",
       "      <th>Action</th>\n",
       "      <th>Adventure</th>\n",
       "      <th>Animation</th>\n",
       "      <th>Children</th>\n",
       "      <th>...</th>\n",
       "      <th>Fantasy</th>\n",
       "      <th>Film-Noir</th>\n",
       "      <th>Horror</th>\n",
       "      <th>Musical</th>\n",
       "      <th>Mystery</th>\n",
       "      <th>Romance</th>\n",
       "      <th>Sci-Fi</th>\n",
       "      <th>Thriller</th>\n",
       "      <th>War</th>\n",
       "      <th>Western</th>\n",
       "    </tr>\n",
       "  </thead>\n",
       "  <tbody>\n",
       "    <tr>\n",
       "      <th>0</th>\n",
       "      <td>1</td>\n",
       "      <td>Toy Story (1995)</td>\n",
       "      <td>01-Jan-1995</td>\n",
       "      <td>NaN</td>\n",
       "      <td>http://us.imdb.com/M/title-exact?Toy%20Story%2...</td>\n",
       "      <td>0</td>\n",
       "      <td>0</td>\n",
       "      <td>0</td>\n",
       "      <td>1</td>\n",
       "      <td>1</td>\n",
       "      <td>...</td>\n",
       "      <td>0</td>\n",
       "      <td>0</td>\n",
       "      <td>0</td>\n",
       "      <td>0</td>\n",
       "      <td>0</td>\n",
       "      <td>0</td>\n",
       "      <td>0</td>\n",
       "      <td>0</td>\n",
       "      <td>0</td>\n",
       "      <td>0</td>\n",
       "    </tr>\n",
       "    <tr>\n",
       "      <th>1</th>\n",
       "      <td>2</td>\n",
       "      <td>GoldenEye (1995)</td>\n",
       "      <td>01-Jan-1995</td>\n",
       "      <td>NaN</td>\n",
       "      <td>http://us.imdb.com/M/title-exact?GoldenEye%20(...</td>\n",
       "      <td>0</td>\n",
       "      <td>1</td>\n",
       "      <td>1</td>\n",
       "      <td>0</td>\n",
       "      <td>0</td>\n",
       "      <td>...</td>\n",
       "      <td>0</td>\n",
       "      <td>0</td>\n",
       "      <td>0</td>\n",
       "      <td>0</td>\n",
       "      <td>0</td>\n",
       "      <td>0</td>\n",
       "      <td>0</td>\n",
       "      <td>1</td>\n",
       "      <td>0</td>\n",
       "      <td>0</td>\n",
       "    </tr>\n",
       "    <tr>\n",
       "      <th>2</th>\n",
       "      <td>3</td>\n",
       "      <td>Four Rooms (1995)</td>\n",
       "      <td>01-Jan-1995</td>\n",
       "      <td>NaN</td>\n",
       "      <td>http://us.imdb.com/M/title-exact?Four%20Rooms%...</td>\n",
       "      <td>0</td>\n",
       "      <td>0</td>\n",
       "      <td>0</td>\n",
       "      <td>0</td>\n",
       "      <td>0</td>\n",
       "      <td>...</td>\n",
       "      <td>0</td>\n",
       "      <td>0</td>\n",
       "      <td>0</td>\n",
       "      <td>0</td>\n",
       "      <td>0</td>\n",
       "      <td>0</td>\n",
       "      <td>0</td>\n",
       "      <td>1</td>\n",
       "      <td>0</td>\n",
       "      <td>0</td>\n",
       "    </tr>\n",
       "    <tr>\n",
       "      <th>3</th>\n",
       "      <td>4</td>\n",
       "      <td>Get Shorty (1995)</td>\n",
       "      <td>01-Jan-1995</td>\n",
       "      <td>NaN</td>\n",
       "      <td>http://us.imdb.com/M/title-exact?Get%20Shorty%...</td>\n",
       "      <td>0</td>\n",
       "      <td>1</td>\n",
       "      <td>0</td>\n",
       "      <td>0</td>\n",
       "      <td>0</td>\n",
       "      <td>...</td>\n",
       "      <td>0</td>\n",
       "      <td>0</td>\n",
       "      <td>0</td>\n",
       "      <td>0</td>\n",
       "      <td>0</td>\n",
       "      <td>0</td>\n",
       "      <td>0</td>\n",
       "      <td>0</td>\n",
       "      <td>0</td>\n",
       "      <td>0</td>\n",
       "    </tr>\n",
       "    <tr>\n",
       "      <th>4</th>\n",
       "      <td>5</td>\n",
       "      <td>Copycat (1995)</td>\n",
       "      <td>01-Jan-1995</td>\n",
       "      <td>NaN</td>\n",
       "      <td>http://us.imdb.com/M/title-exact?Copycat%20(1995)</td>\n",
       "      <td>0</td>\n",
       "      <td>0</td>\n",
       "      <td>0</td>\n",
       "      <td>0</td>\n",
       "      <td>0</td>\n",
       "      <td>...</td>\n",
       "      <td>0</td>\n",
       "      <td>0</td>\n",
       "      <td>0</td>\n",
       "      <td>0</td>\n",
       "      <td>0</td>\n",
       "      <td>0</td>\n",
       "      <td>0</td>\n",
       "      <td>1</td>\n",
       "      <td>0</td>\n",
       "      <td>0</td>\n",
       "    </tr>\n",
       "  </tbody>\n",
       "</table>\n",
       "<p>5 rows × 24 columns</p>\n",
       "</div>"
      ],
      "text/plain": [
       "   movie_id              title release_date  video_release_date  \\\n",
       "0         1   Toy Story (1995)  01-Jan-1995                 NaN   \n",
       "1         2   GoldenEye (1995)  01-Jan-1995                 NaN   \n",
       "2         3  Four Rooms (1995)  01-Jan-1995                 NaN   \n",
       "3         4  Get Shorty (1995)  01-Jan-1995                 NaN   \n",
       "4         5     Copycat (1995)  01-Jan-1995                 NaN   \n",
       "\n",
       "                                            imdb_url  genre_unknown  Action  \\\n",
       "0  http://us.imdb.com/M/title-exact?Toy%20Story%2...              0       0   \n",
       "1  http://us.imdb.com/M/title-exact?GoldenEye%20(...              0       1   \n",
       "2  http://us.imdb.com/M/title-exact?Four%20Rooms%...              0       0   \n",
       "3  http://us.imdb.com/M/title-exact?Get%20Shorty%...              0       1   \n",
       "4  http://us.imdb.com/M/title-exact?Copycat%20(1995)              0       0   \n",
       "\n",
       "   Adventure  Animation  Children  ...  Fantasy  Film-Noir  Horror  Musical  \\\n",
       "0          0          1         1  ...        0          0       0        0   \n",
       "1          1          0         0  ...        0          0       0        0   \n",
       "2          0          0         0  ...        0          0       0        0   \n",
       "3          0          0         0  ...        0          0       0        0   \n",
       "4          0          0         0  ...        0          0       0        0   \n",
       "\n",
       "   Mystery  Romance  Sci-Fi  Thriller  War  Western  \n",
       "0        0        0       0         0    0        0  \n",
       "1        0        0       0         1    0        0  \n",
       "2        0        0       0         1    0        0  \n",
       "3        0        0       0         0    0        0  \n",
       "4        0        0       0         1    0        0  \n",
       "\n",
       "[5 rows x 24 columns]"
      ]
     },
     "execution_count": 6,
     "metadata": {},
     "output_type": "execute_result"
    }
   ],
   "source": [
    "movies.head()"
   ]
  },
  {
   "cell_type": "code",
   "execution_count": 7,
   "metadata": {
    "colab": {
     "base_uri": "https://localhost:8080/"
    },
    "id": "ZzFwwJO-dwI4",
    "outputId": "26f619c5-383a-42ac-8ad9-921faa0b6b16"
   },
   "outputs": [
    {
     "name": "stdout",
     "output_type": "stream",
     "text": [
      "<class 'pandas.core.frame.DataFrame'>\n",
      "RangeIndex: 1682 entries, 0 to 1681\n",
      "Data columns (total 24 columns):\n",
      " #   Column              Non-Null Count  Dtype  \n",
      "---  ------              --------------  -----  \n",
      " 0   movie_id            1682 non-null   int64  \n",
      " 1   title               1682 non-null   object \n",
      " 2   release_date        1681 non-null   object \n",
      " 3   video_release_date  0 non-null      float64\n",
      " 4   imdb_url            1679 non-null   object \n",
      " 5   genre_unknown       1682 non-null   int64  \n",
      " 6   Action              1682 non-null   int64  \n",
      " 7   Adventure           1682 non-null   int64  \n",
      " 8   Animation           1682 non-null   int64  \n",
      " 9   Children            1682 non-null   int64  \n",
      " 10  Comedy              1682 non-null   int64  \n",
      " 11  Crime               1682 non-null   int64  \n",
      " 12  Documentary         1682 non-null   int64  \n",
      " 13  Drama               1682 non-null   int64  \n",
      " 14  Fantasy             1682 non-null   int64  \n",
      " 15  Film-Noir           1682 non-null   int64  \n",
      " 16  Horror              1682 non-null   int64  \n",
      " 17  Musical             1682 non-null   int64  \n",
      " 18  Mystery             1682 non-null   int64  \n",
      " 19  Romance             1682 non-null   int64  \n",
      " 20  Sci-Fi              1682 non-null   int64  \n",
      " 21  Thriller            1682 non-null   int64  \n",
      " 22  War                 1682 non-null   int64  \n",
      " 23  Western             1682 non-null   int64  \n",
      "dtypes: float64(1), int64(20), object(3)\n",
      "memory usage: 315.5+ KB\n"
     ]
    }
   ],
   "source": [
    "movies.info()"
   ]
  },
  {
   "cell_type": "code",
   "execution_count": 8,
   "metadata": {
    "colab": {
     "base_uri": "https://localhost:8080/",
     "height": 206
    },
    "id": "OQ2_74jydzRC",
    "outputId": "07c0f7b3-1ae9-4af8-c1c0-8784cec096d7"
   },
   "outputs": [
    {
     "data": {
      "text/html": [
       "<div>\n",
       "<style scoped>\n",
       "    .dataframe tbody tr th:only-of-type {\n",
       "        vertical-align: middle;\n",
       "    }\n",
       "\n",
       "    .dataframe tbody tr th {\n",
       "        vertical-align: top;\n",
       "    }\n",
       "\n",
       "    .dataframe thead th {\n",
       "        text-align: right;\n",
       "    }\n",
       "</style>\n",
       "<table border=\"1\" class=\"dataframe\">\n",
       "  <thead>\n",
       "    <tr style=\"text-align: right;\">\n",
       "      <th></th>\n",
       "      <th>user_id</th>\n",
       "      <th>movie_id</th>\n",
       "      <th>rating</th>\n",
       "      <th>unix_timestamp</th>\n",
       "    </tr>\n",
       "  </thead>\n",
       "  <tbody>\n",
       "    <tr>\n",
       "      <th>0</th>\n",
       "      <td>196</td>\n",
       "      <td>242</td>\n",
       "      <td>3</td>\n",
       "      <td>881250949</td>\n",
       "    </tr>\n",
       "    <tr>\n",
       "      <th>1</th>\n",
       "      <td>186</td>\n",
       "      <td>302</td>\n",
       "      <td>3</td>\n",
       "      <td>891717742</td>\n",
       "    </tr>\n",
       "    <tr>\n",
       "      <th>2</th>\n",
       "      <td>22</td>\n",
       "      <td>377</td>\n",
       "      <td>1</td>\n",
       "      <td>878887116</td>\n",
       "    </tr>\n",
       "    <tr>\n",
       "      <th>3</th>\n",
       "      <td>244</td>\n",
       "      <td>51</td>\n",
       "      <td>2</td>\n",
       "      <td>880606923</td>\n",
       "    </tr>\n",
       "    <tr>\n",
       "      <th>4</th>\n",
       "      <td>166</td>\n",
       "      <td>346</td>\n",
       "      <td>1</td>\n",
       "      <td>886397596</td>\n",
       "    </tr>\n",
       "  </tbody>\n",
       "</table>\n",
       "</div>"
      ],
      "text/plain": [
       "   user_id  movie_id  rating  unix_timestamp\n",
       "0      196       242       3       881250949\n",
       "1      186       302       3       891717742\n",
       "2       22       377       1       878887116\n",
       "3      244        51       2       880606923\n",
       "4      166       346       1       886397596"
      ]
     },
     "execution_count": 8,
     "metadata": {},
     "output_type": "execute_result"
    }
   ],
   "source": [
    "ratings.head()"
   ]
  },
  {
   "cell_type": "code",
   "execution_count": 9,
   "metadata": {
    "colab": {
     "base_uri": "https://localhost:8080/"
    },
    "id": "lb5m7sdsd-6S",
    "outputId": "0a39aa08-50a4-40c5-8b7f-f8bfdfc4c171"
   },
   "outputs": [
    {
     "name": "stdout",
     "output_type": "stream",
     "text": [
      "<class 'pandas.core.frame.DataFrame'>\n",
      "RangeIndex: 100000 entries, 0 to 99999\n",
      "Data columns (total 4 columns):\n",
      " #   Column          Non-Null Count   Dtype\n",
      "---  ------          --------------   -----\n",
      " 0   user_id         100000 non-null  int64\n",
      " 1   movie_id        100000 non-null  int64\n",
      " 2   rating          100000 non-null  int64\n",
      " 3   unix_timestamp  100000 non-null  int64\n",
      "dtypes: int64(4)\n",
      "memory usage: 3.1 MB\n"
     ]
    }
   ],
   "source": [
    "ratings.info()"
   ]
  },
  {
   "cell_type": "code",
   "execution_count": 10,
   "metadata": {
    "colab": {
     "base_uri": "https://localhost:8080/",
     "height": 206
    },
    "id": "iuyvo6kZd_0a",
    "outputId": "b6fd3005-10dc-4b8f-f1db-ae6c6b374b50"
   },
   "outputs": [
    {
     "data": {
      "text/html": [
       "<div>\n",
       "<style scoped>\n",
       "    .dataframe tbody tr th:only-of-type {\n",
       "        vertical-align: middle;\n",
       "    }\n",
       "\n",
       "    .dataframe tbody tr th {\n",
       "        vertical-align: top;\n",
       "    }\n",
       "\n",
       "    .dataframe thead th {\n",
       "        text-align: right;\n",
       "    }\n",
       "</style>\n",
       "<table border=\"1\" class=\"dataframe\">\n",
       "  <thead>\n",
       "    <tr style=\"text-align: right;\">\n",
       "      <th></th>\n",
       "      <th>user_id</th>\n",
       "      <th>age</th>\n",
       "      <th>sex</th>\n",
       "      <th>occupation</th>\n",
       "      <th>zip_code</th>\n",
       "    </tr>\n",
       "  </thead>\n",
       "  <tbody>\n",
       "    <tr>\n",
       "      <th>0</th>\n",
       "      <td>1</td>\n",
       "      <td>24</td>\n",
       "      <td>M</td>\n",
       "      <td>technician</td>\n",
       "      <td>85711</td>\n",
       "    </tr>\n",
       "    <tr>\n",
       "      <th>1</th>\n",
       "      <td>2</td>\n",
       "      <td>53</td>\n",
       "      <td>F</td>\n",
       "      <td>other</td>\n",
       "      <td>94043</td>\n",
       "    </tr>\n",
       "    <tr>\n",
       "      <th>2</th>\n",
       "      <td>3</td>\n",
       "      <td>23</td>\n",
       "      <td>M</td>\n",
       "      <td>writer</td>\n",
       "      <td>32067</td>\n",
       "    </tr>\n",
       "    <tr>\n",
       "      <th>3</th>\n",
       "      <td>4</td>\n",
       "      <td>24</td>\n",
       "      <td>M</td>\n",
       "      <td>technician</td>\n",
       "      <td>43537</td>\n",
       "    </tr>\n",
       "    <tr>\n",
       "      <th>4</th>\n",
       "      <td>5</td>\n",
       "      <td>33</td>\n",
       "      <td>F</td>\n",
       "      <td>other</td>\n",
       "      <td>15213</td>\n",
       "    </tr>\n",
       "  </tbody>\n",
       "</table>\n",
       "</div>"
      ],
      "text/plain": [
       "   user_id  age sex  occupation zip_code\n",
       "0        1   24   M  technician    85711\n",
       "1        2   53   F       other    94043\n",
       "2        3   23   M      writer    32067\n",
       "3        4   24   M  technician    43537\n",
       "4        5   33   F       other    15213"
      ]
     },
     "execution_count": 10,
     "metadata": {},
     "output_type": "execute_result"
    }
   ],
   "source": [
    "users.head()"
   ]
  },
  {
   "cell_type": "code",
   "execution_count": 11,
   "metadata": {
    "colab": {
     "base_uri": "https://localhost:8080/"
    },
    "id": "mj6PRQrreBmt",
    "outputId": "edaf51c0-43f1-48d9-a107-cfa96ebbbfa5"
   },
   "outputs": [
    {
     "name": "stdout",
     "output_type": "stream",
     "text": [
      "<class 'pandas.core.frame.DataFrame'>\n",
      "RangeIndex: 943 entries, 0 to 942\n",
      "Data columns (total 5 columns):\n",
      " #   Column      Non-Null Count  Dtype \n",
      "---  ------      --------------  ----- \n",
      " 0   user_id     943 non-null    int64 \n",
      " 1   age         943 non-null    int64 \n",
      " 2   sex         943 non-null    object\n",
      " 3   occupation  943 non-null    object\n",
      " 4   zip_code    943 non-null    object\n",
      "dtypes: int64(2), object(3)\n",
      "memory usage: 37.0+ KB\n"
     ]
    }
   ],
   "source": [
    "users.info()"
   ]
  },
  {
   "cell_type": "code",
   "execution_count": 12,
   "metadata": {
    "colab": {
     "base_uri": "https://localhost:8080/"
    },
    "id": "5Gox5cUkeC_8",
    "outputId": "ebda8e43-55f9-434b-c572-090ed34c0ef0"
   },
   "outputs": [
    {
     "name": "stdout",
     "output_type": "stream",
     "text": [
      "Jumlah data film:  1682\n",
      "Jumlah data pengunjung:  943\n",
      "Jumlah data penayangan:  100000\n"
     ]
    }
   ],
   "source": [
    "print('Jumlah data film: ', len(movies.movie_id.unique()))\n",
    "print('Jumlah data pengunjung: ', len(users.user_id.unique()))\n",
    "print('Jumlah data penayangan: ', len(ratings.user_id))\n"
   ]
  },
  {
   "cell_type": "code",
   "execution_count": 13,
   "metadata": {
    "id": "5cBN4491eTNv"
   },
   "outputs": [],
   "source": [
    "users[\"user_id\"] = users[\"user_id\"].apply(lambda x: str(x-1))\n",
    "movies[\"movie_id\"] = movies[\"movie_id\"].apply(lambda x: str(x-1))\n",
    "movies[\"year\"] = movies['release_date'].apply(lambda x: str(x).split('-')[-1])\n",
    "ratings[\"movie_id\"] = ratings[\"movie_id\"].apply(lambda x: str(x-1))\n",
    "ratings[\"user_id\"] = ratings[\"user_id\"].apply(lambda x: str(x-1))\n",
    "ratings[\"rating\"] = ratings[\"rating\"].apply(lambda x: float(x))\n"
   ]
  },
  {
   "cell_type": "code",
   "execution_count": 14,
   "metadata": {
    "colab": {
     "base_uri": "https://localhost:8080/"
    },
    "id": "xL_RvcTUfXYZ",
    "outputId": "e87beb5f-9a89-4139-8a7a-05d6b0066ec9"
   },
   "outputs": [
    {
     "data": {
      "text/plain": [
       "{'genre_unknown': 2,\n",
       " 'Action': 251,\n",
       " 'Adventure': 135,\n",
       " 'Animation': 42,\n",
       " 'Children': 122,\n",
       " 'Comedy': 505,\n",
       " 'Crime': 109,\n",
       " 'Documentary': 50,\n",
       " 'Drama': 725,\n",
       " 'Fantasy': 22,\n",
       " 'Film-Noir': 24,\n",
       " 'Horror': 92,\n",
       " 'Musical': 56,\n",
       " 'Mystery': 61,\n",
       " 'Romance': 247,\n",
       " 'Sci-Fi': 101,\n",
       " 'Thriller': 251,\n",
       " 'War': 71,\n",
       " 'Western': 27}"
      ]
     },
     "execution_count": 14,
     "metadata": {},
     "output_type": "execute_result"
    }
   ],
   "source": [
    "genre_occurences = movies[genre_cols].sum().to_dict()\n",
    "genre_occurences"
   ]
  },
  {
   "cell_type": "code",
   "execution_count": 15,
   "metadata": {
    "id": "p0QdD6oEfmyU"
   },
   "outputs": [],
   "source": [
    "def mark_genres(movies, genres):\n",
    "  def get_random_genre(gs):\n",
    "    active = [genre for genre, g in zip(genres, gs) if g==1]\n",
    "    if len(active) == 0:\n",
    "      return 'Other'\n",
    "    return np.random.choice(active)\n",
    "\n",
    "  def get_all_genres(gs):\n",
    "    active = [genre for genre, g in zip(genres, gs) if g==1]\n",
    "    if len(active) == 0:\n",
    "      return 'Other'\n",
    "    return '-'.join(active)\n",
    "\n",
    "  movies['genre'] = [\n",
    "      get_random_genre(gs) for gs in zip(*[movies[genre] for genre in genres])\n",
    "  ]\n",
    "  movies['all_genres'] = [\n",
    "      get_all_genres(gs) for gs in zip(*[movies[genre] for genre in genres])\n",
    "  ]\n",
    "\n",
    "mark_genres(movies, genre_cols)"
   ]
  },
  {
   "cell_type": "code",
   "execution_count": 16,
   "metadata": {
    "colab": {
     "base_uri": "https://localhost:8080/",
     "height": 423
    },
    "id": "oxadJq-lcNDo",
    "outputId": "650d4217-772b-4de9-9159-6d3f73c6c05a"
   },
   "outputs": [
    {
     "data": {
      "text/html": [
       "<div>\n",
       "<style scoped>\n",
       "    .dataframe tbody tr th:only-of-type {\n",
       "        vertical-align: middle;\n",
       "    }\n",
       "\n",
       "    .dataframe tbody tr th {\n",
       "        vertical-align: top;\n",
       "    }\n",
       "\n",
       "    .dataframe thead th {\n",
       "        text-align: right;\n",
       "    }\n",
       "</style>\n",
       "<table border=\"1\" class=\"dataframe\">\n",
       "  <thead>\n",
       "    <tr style=\"text-align: right;\">\n",
       "      <th></th>\n",
       "      <th>all_genres</th>\n",
       "      <th>genre</th>\n",
       "    </tr>\n",
       "  </thead>\n",
       "  <tbody>\n",
       "    <tr>\n",
       "      <th>0</th>\n",
       "      <td>Animation-Children-Comedy</td>\n",
       "      <td>Children</td>\n",
       "    </tr>\n",
       "    <tr>\n",
       "      <th>1</th>\n",
       "      <td>Action-Adventure-Thriller</td>\n",
       "      <td>Adventure</td>\n",
       "    </tr>\n",
       "    <tr>\n",
       "      <th>2</th>\n",
       "      <td>Thriller</td>\n",
       "      <td>Thriller</td>\n",
       "    </tr>\n",
       "    <tr>\n",
       "      <th>3</th>\n",
       "      <td>Action-Comedy-Drama</td>\n",
       "      <td>Action</td>\n",
       "    </tr>\n",
       "    <tr>\n",
       "      <th>4</th>\n",
       "      <td>Crime-Drama-Thriller</td>\n",
       "      <td>Thriller</td>\n",
       "    </tr>\n",
       "    <tr>\n",
       "      <th>...</th>\n",
       "      <td>...</td>\n",
       "      <td>...</td>\n",
       "    </tr>\n",
       "    <tr>\n",
       "      <th>1677</th>\n",
       "      <td>Drama</td>\n",
       "      <td>Drama</td>\n",
       "    </tr>\n",
       "    <tr>\n",
       "      <th>1678</th>\n",
       "      <td>Romance-Thriller</td>\n",
       "      <td>Thriller</td>\n",
       "    </tr>\n",
       "    <tr>\n",
       "      <th>1679</th>\n",
       "      <td>Drama-Romance</td>\n",
       "      <td>Romance</td>\n",
       "    </tr>\n",
       "    <tr>\n",
       "      <th>1680</th>\n",
       "      <td>Comedy</td>\n",
       "      <td>Comedy</td>\n",
       "    </tr>\n",
       "    <tr>\n",
       "      <th>1681</th>\n",
       "      <td>Drama</td>\n",
       "      <td>Drama</td>\n",
       "    </tr>\n",
       "  </tbody>\n",
       "</table>\n",
       "<p>1682 rows × 2 columns</p>\n",
       "</div>"
      ],
      "text/plain": [
       "                     all_genres      genre\n",
       "0     Animation-Children-Comedy   Children\n",
       "1     Action-Adventure-Thriller  Adventure\n",
       "2                      Thriller   Thriller\n",
       "3           Action-Comedy-Drama     Action\n",
       "4          Crime-Drama-Thriller   Thriller\n",
       "...                         ...        ...\n",
       "1677                      Drama      Drama\n",
       "1678           Romance-Thriller   Thriller\n",
       "1679              Drama-Romance    Romance\n",
       "1680                     Comedy     Comedy\n",
       "1681                      Drama      Drama\n",
       "\n",
       "[1682 rows x 2 columns]"
      ]
     },
     "execution_count": 16,
     "metadata": {},
     "output_type": "execute_result"
    }
   ],
   "source": [
    "pd.concat([movies['all_genres'], movies['genre']], axis=1)"
   ]
  },
  {
   "cell_type": "code",
   "execution_count": 17,
   "metadata": {
    "colab": {
     "base_uri": "https://localhost:8080/",
     "height": 377
    },
    "id": "hnRK9QlhcSv_",
    "outputId": "c36d1997-9424-46fe-883b-1edbe10a8059"
   },
   "outputs": [
    {
     "data": {
      "text/html": [
       "<div>\n",
       "<style scoped>\n",
       "    .dataframe tbody tr th:only-of-type {\n",
       "        vertical-align: middle;\n",
       "    }\n",
       "\n",
       "    .dataframe tbody tr th {\n",
       "        vertical-align: top;\n",
       "    }\n",
       "\n",
       "    .dataframe thead th {\n",
       "        text-align: right;\n",
       "    }\n",
       "</style>\n",
       "<table border=\"1\" class=\"dataframe\">\n",
       "  <thead>\n",
       "    <tr style=\"text-align: right;\">\n",
       "      <th></th>\n",
       "      <th>user_id</th>\n",
       "      <th>movie_id</th>\n",
       "      <th>rating</th>\n",
       "      <th>unix_timestamp</th>\n",
       "      <th>title</th>\n",
       "      <th>release_date</th>\n",
       "      <th>video_release_date</th>\n",
       "      <th>imdb_url</th>\n",
       "      <th>genre_unknown</th>\n",
       "      <th>Action</th>\n",
       "      <th>...</th>\n",
       "      <th>Thriller</th>\n",
       "      <th>War</th>\n",
       "      <th>Western</th>\n",
       "      <th>year</th>\n",
       "      <th>genre</th>\n",
       "      <th>all_genres</th>\n",
       "      <th>age</th>\n",
       "      <th>sex</th>\n",
       "      <th>occupation</th>\n",
       "      <th>zip_code</th>\n",
       "    </tr>\n",
       "  </thead>\n",
       "  <tbody>\n",
       "    <tr>\n",
       "      <th>0</th>\n",
       "      <td>195</td>\n",
       "      <td>241</td>\n",
       "      <td>3.0</td>\n",
       "      <td>881250949</td>\n",
       "      <td>Kolya (1996)</td>\n",
       "      <td>24-Jan-1997</td>\n",
       "      <td>NaN</td>\n",
       "      <td>http://us.imdb.com/M/title-exact?Kolya%20(1996)</td>\n",
       "      <td>0</td>\n",
       "      <td>0</td>\n",
       "      <td>...</td>\n",
       "      <td>0</td>\n",
       "      <td>0</td>\n",
       "      <td>0</td>\n",
       "      <td>1997</td>\n",
       "      <td>Comedy</td>\n",
       "      <td>Comedy</td>\n",
       "      <td>49</td>\n",
       "      <td>M</td>\n",
       "      <td>writer</td>\n",
       "      <td>55105</td>\n",
       "    </tr>\n",
       "    <tr>\n",
       "      <th>1</th>\n",
       "      <td>185</td>\n",
       "      <td>301</td>\n",
       "      <td>3.0</td>\n",
       "      <td>891717742</td>\n",
       "      <td>L.A. Confidential (1997)</td>\n",
       "      <td>01-Jan-1997</td>\n",
       "      <td>NaN</td>\n",
       "      <td>http://us.imdb.com/M/title-exact?L%2EA%2E+Conf...</td>\n",
       "      <td>0</td>\n",
       "      <td>0</td>\n",
       "      <td>...</td>\n",
       "      <td>1</td>\n",
       "      <td>0</td>\n",
       "      <td>0</td>\n",
       "      <td>1997</td>\n",
       "      <td>Film-Noir</td>\n",
       "      <td>Crime-Film-Noir-Mystery-Thriller</td>\n",
       "      <td>39</td>\n",
       "      <td>F</td>\n",
       "      <td>executive</td>\n",
       "      <td>00000</td>\n",
       "    </tr>\n",
       "    <tr>\n",
       "      <th>2</th>\n",
       "      <td>21</td>\n",
       "      <td>376</td>\n",
       "      <td>1.0</td>\n",
       "      <td>878887116</td>\n",
       "      <td>Heavyweights (1994)</td>\n",
       "      <td>01-Jan-1994</td>\n",
       "      <td>NaN</td>\n",
       "      <td>http://us.imdb.com/M/title-exact?Heavyweights%...</td>\n",
       "      <td>0</td>\n",
       "      <td>0</td>\n",
       "      <td>...</td>\n",
       "      <td>0</td>\n",
       "      <td>0</td>\n",
       "      <td>0</td>\n",
       "      <td>1994</td>\n",
       "      <td>Comedy</td>\n",
       "      <td>Children-Comedy</td>\n",
       "      <td>25</td>\n",
       "      <td>M</td>\n",
       "      <td>writer</td>\n",
       "      <td>40206</td>\n",
       "    </tr>\n",
       "    <tr>\n",
       "      <th>3</th>\n",
       "      <td>243</td>\n",
       "      <td>50</td>\n",
       "      <td>2.0</td>\n",
       "      <td>880606923</td>\n",
       "      <td>Legends of the Fall (1994)</td>\n",
       "      <td>01-Jan-1994</td>\n",
       "      <td>NaN</td>\n",
       "      <td>http://us.imdb.com/M/title-exact?Legends%20of%...</td>\n",
       "      <td>0</td>\n",
       "      <td>0</td>\n",
       "      <td>...</td>\n",
       "      <td>0</td>\n",
       "      <td>1</td>\n",
       "      <td>1</td>\n",
       "      <td>1994</td>\n",
       "      <td>Romance</td>\n",
       "      <td>Drama-Romance-War-Western</td>\n",
       "      <td>28</td>\n",
       "      <td>M</td>\n",
       "      <td>technician</td>\n",
       "      <td>80525</td>\n",
       "    </tr>\n",
       "    <tr>\n",
       "      <th>4</th>\n",
       "      <td>165</td>\n",
       "      <td>345</td>\n",
       "      <td>1.0</td>\n",
       "      <td>886397596</td>\n",
       "      <td>Jackie Brown (1997)</td>\n",
       "      <td>01-Jan-1997</td>\n",
       "      <td>NaN</td>\n",
       "      <td>http://us.imdb.com/M/title-exact?imdb-title-11...</td>\n",
       "      <td>0</td>\n",
       "      <td>0</td>\n",
       "      <td>...</td>\n",
       "      <td>0</td>\n",
       "      <td>0</td>\n",
       "      <td>0</td>\n",
       "      <td>1997</td>\n",
       "      <td>Drama</td>\n",
       "      <td>Crime-Drama</td>\n",
       "      <td>47</td>\n",
       "      <td>M</td>\n",
       "      <td>educator</td>\n",
       "      <td>55113</td>\n",
       "    </tr>\n",
       "  </tbody>\n",
       "</table>\n",
       "<p>5 rows × 34 columns</p>\n",
       "</div>"
      ],
      "text/plain": [
       "  user_id movie_id  rating  unix_timestamp                       title  \\\n",
       "0     195      241     3.0       881250949                Kolya (1996)   \n",
       "1     185      301     3.0       891717742    L.A. Confidential (1997)   \n",
       "2      21      376     1.0       878887116         Heavyweights (1994)   \n",
       "3     243       50     2.0       880606923  Legends of the Fall (1994)   \n",
       "4     165      345     1.0       886397596         Jackie Brown (1997)   \n",
       "\n",
       "  release_date  video_release_date  \\\n",
       "0  24-Jan-1997                 NaN   \n",
       "1  01-Jan-1997                 NaN   \n",
       "2  01-Jan-1994                 NaN   \n",
       "3  01-Jan-1994                 NaN   \n",
       "4  01-Jan-1997                 NaN   \n",
       "\n",
       "                                            imdb_url  genre_unknown  Action  \\\n",
       "0    http://us.imdb.com/M/title-exact?Kolya%20(1996)              0       0   \n",
       "1  http://us.imdb.com/M/title-exact?L%2EA%2E+Conf...              0       0   \n",
       "2  http://us.imdb.com/M/title-exact?Heavyweights%...              0       0   \n",
       "3  http://us.imdb.com/M/title-exact?Legends%20of%...              0       0   \n",
       "4  http://us.imdb.com/M/title-exact?imdb-title-11...              0       0   \n",
       "\n",
       "   ...  Thriller  War  Western  year      genre  \\\n",
       "0  ...         0    0        0  1997     Comedy   \n",
       "1  ...         1    0        0  1997  Film-Noir   \n",
       "2  ...         0    0        0  1994     Comedy   \n",
       "3  ...         0    1        1  1994    Romance   \n",
       "4  ...         0    0        0  1997      Drama   \n",
       "\n",
       "                         all_genres  age  sex  occupation  zip_code  \n",
       "0                            Comedy   49    M      writer     55105  \n",
       "1  Crime-Film-Noir-Mystery-Thriller   39    F   executive     00000  \n",
       "2                   Children-Comedy   25    M      writer     40206  \n",
       "3         Drama-Romance-War-Western   28    M  technician     80525  \n",
       "4                       Crime-Drama   47    M    educator     55113  \n",
       "\n",
       "[5 rows x 34 columns]"
      ]
     },
     "execution_count": 17,
     "metadata": {},
     "output_type": "execute_result"
    }
   ],
   "source": [
    "movielens = ratings.merge(movies, on='movie_id').merge(users, on='user_id')\n",
    "movielens.head()"
   ]
  },
  {
   "cell_type": "markdown",
   "metadata": {
    "id": "xwbjqSphdiK2"
   },
   "source": [
    "# **EXPLORATION**"
   ]
  },
  {
   "cell_type": "code",
   "execution_count": 18,
   "metadata": {
    "id": "e8HpwP3YdY60"
   },
   "outputs": [],
   "source": [
    "pd.options.display.max_rows=10\n",
    "pd.options.display.float_format = '{:.3f}'.format\n",
    "\n",
    "def mask(df, key, function):\n",
    "  \"\"\"Returns a filtered dataframe, by applying function to key\"\"\"\n",
    "  return df[function(df[key])]\n",
    "\n",
    "def flatten_cols(df):\n",
    "  df.columns = [' '.join(col).strip() for col in df.columns.values]\n",
    "  return df\n",
    "\n",
    "pd.DataFrame.mask = mask\n",
    "pd.DataFrame.flatten_cols = flatten_cols"
   ]
  },
  {
   "cell_type": "code",
   "execution_count": 19,
   "metadata": {
    "colab": {
     "base_uri": "https://localhost:8080/",
     "height": 423
    },
    "id": "VRKtY9Mpewmh",
    "outputId": "ecaafd35-df25-4e11-b4d5-13f8cc55ad68"
   },
   "outputs": [
    {
     "data": {
      "text/html": [
       "<div>\n",
       "<style scoped>\n",
       "    .dataframe tbody tr th:only-of-type {\n",
       "        vertical-align: middle;\n",
       "    }\n",
       "\n",
       "    .dataframe tbody tr th {\n",
       "        vertical-align: top;\n",
       "    }\n",
       "\n",
       "    .dataframe thead th {\n",
       "        text-align: right;\n",
       "    }\n",
       "</style>\n",
       "<table border=\"1\" class=\"dataframe\">\n",
       "  <thead>\n",
       "    <tr style=\"text-align: right;\">\n",
       "      <th></th>\n",
       "      <th>user_id</th>\n",
       "      <th>age</th>\n",
       "      <th>sex</th>\n",
       "      <th>occupation</th>\n",
       "      <th>zip_code</th>\n",
       "    </tr>\n",
       "  </thead>\n",
       "  <tbody>\n",
       "    <tr>\n",
       "      <th>count</th>\n",
       "      <td>943</td>\n",
       "      <td>943.000</td>\n",
       "      <td>943</td>\n",
       "      <td>943</td>\n",
       "      <td>943</td>\n",
       "    </tr>\n",
       "    <tr>\n",
       "      <th>unique</th>\n",
       "      <td>943</td>\n",
       "      <td>NaN</td>\n",
       "      <td>2</td>\n",
       "      <td>21</td>\n",
       "      <td>795</td>\n",
       "    </tr>\n",
       "    <tr>\n",
       "      <th>top</th>\n",
       "      <td>0</td>\n",
       "      <td>NaN</td>\n",
       "      <td>M</td>\n",
       "      <td>student</td>\n",
       "      <td>55414</td>\n",
       "    </tr>\n",
       "    <tr>\n",
       "      <th>freq</th>\n",
       "      <td>1</td>\n",
       "      <td>NaN</td>\n",
       "      <td>670</td>\n",
       "      <td>196</td>\n",
       "      <td>9</td>\n",
       "    </tr>\n",
       "    <tr>\n",
       "      <th>mean</th>\n",
       "      <td>NaN</td>\n",
       "      <td>34.052</td>\n",
       "      <td>NaN</td>\n",
       "      <td>NaN</td>\n",
       "      <td>NaN</td>\n",
       "    </tr>\n",
       "    <tr>\n",
       "      <th>...</th>\n",
       "      <td>...</td>\n",
       "      <td>...</td>\n",
       "      <td>...</td>\n",
       "      <td>...</td>\n",
       "      <td>...</td>\n",
       "    </tr>\n",
       "    <tr>\n",
       "      <th>min</th>\n",
       "      <td>NaN</td>\n",
       "      <td>7.000</td>\n",
       "      <td>NaN</td>\n",
       "      <td>NaN</td>\n",
       "      <td>NaN</td>\n",
       "    </tr>\n",
       "    <tr>\n",
       "      <th>25%</th>\n",
       "      <td>NaN</td>\n",
       "      <td>25.000</td>\n",
       "      <td>NaN</td>\n",
       "      <td>NaN</td>\n",
       "      <td>NaN</td>\n",
       "    </tr>\n",
       "    <tr>\n",
       "      <th>50%</th>\n",
       "      <td>NaN</td>\n",
       "      <td>31.000</td>\n",
       "      <td>NaN</td>\n",
       "      <td>NaN</td>\n",
       "      <td>NaN</td>\n",
       "    </tr>\n",
       "    <tr>\n",
       "      <th>75%</th>\n",
       "      <td>NaN</td>\n",
       "      <td>43.000</td>\n",
       "      <td>NaN</td>\n",
       "      <td>NaN</td>\n",
       "      <td>NaN</td>\n",
       "    </tr>\n",
       "    <tr>\n",
       "      <th>max</th>\n",
       "      <td>NaN</td>\n",
       "      <td>73.000</td>\n",
       "      <td>NaN</td>\n",
       "      <td>NaN</td>\n",
       "      <td>NaN</td>\n",
       "    </tr>\n",
       "  </tbody>\n",
       "</table>\n",
       "<p>11 rows × 5 columns</p>\n",
       "</div>"
      ],
      "text/plain": [
       "       user_id     age  sex occupation zip_code\n",
       "count      943 943.000  943        943      943\n",
       "unique     943     NaN    2         21      795\n",
       "top          0     NaN    M    student    55414\n",
       "freq         1     NaN  670        196        9\n",
       "mean       NaN  34.052  NaN        NaN      NaN\n",
       "...        ...     ...  ...        ...      ...\n",
       "min        NaN   7.000  NaN        NaN      NaN\n",
       "25%        NaN  25.000  NaN        NaN      NaN\n",
       "50%        NaN  31.000  NaN        NaN      NaN\n",
       "75%        NaN  43.000  NaN        NaN      NaN\n",
       "max        NaN  73.000  NaN        NaN      NaN\n",
       "\n",
       "[11 rows x 5 columns]"
      ]
     },
     "execution_count": 19,
     "metadata": {},
     "output_type": "execute_result"
    }
   ],
   "source": [
    "users.describe(include='all')"
   ]
  },
  {
   "cell_type": "code",
   "execution_count": 20,
   "metadata": {
    "id": "a9KHf4iGe9zq"
   },
   "outputs": [],
   "source": [
    "# Membuat filter untuk melakukan slicing data.\n",
    "occupation_filter = alt.selection_multi(fields=[\"occupation\"])\n",
    "occupation_chart = alt.Chart().mark_bar().encode(\n",
    "    x=\"count()\",\n",
    "    y=alt.Y(\"occupation:N\"),\n",
    "    color=alt.condition(\n",
    "        occupation_filter,\n",
    "        alt.Color(\"occupation:N\", scale=alt.Scale(scheme='category20')),\n",
    "        alt.value(\"lightgray\")),\n",
    ").properties(width=300, height=300, selection=occupation_filter)\n",
    "\n",
    "# Fungsi yang dapat membuat histogram dari data yang sudah difilter.\n",
    "def filtered_hist(field, label, filter):\n",
    "  base = alt.Chart().mark_bar().encode(\n",
    "      x=alt.X(field, bin=alt.Bin(maxbins=10), title=label),\n",
    "      y=\"count()\",\n",
    "  ).properties(\n",
    "      width=300,\n",
    "  )\n",
    "  return alt.layer(\n",
    "      base.transform_filter(filter),\n",
    "      base.encode(color=alt.value('lightgray'), opacity=alt.value(.7)),\n",
    "  ).resolve_scale(y='independent')"
   ]
  },
  {
   "cell_type": "code",
   "execution_count": 21,
   "metadata": {
    "colab": {
     "base_uri": "https://localhost:8080/",
     "height": 370
    },
    "id": "YeyP7Q_zhQQI",
    "outputId": "44bf4e5b-fba5-4bcf-a5fb-3443362b8499"
   },
   "outputs": [
    {
     "ename": "SchemaValidationError",
     "evalue": "`HConcatChart` has no parameter named 'selection'\n\nExisting parameter names are:\nhconcat      center     description   params    title       \nautosize     config     name          resolve   transform   \nbackground   data       padding       spacing   usermeta    \nbounds       datasets                                       \n\nSee the help for `HConcatChart` to read the full description of these parameters",
     "output_type": "error",
     "traceback": [
      "\u001b[0;31m---------------------------------------------------------------------------\u001b[0m",
      "\u001b[0;31mSchemaValidationError\u001b[0m                     Traceback (most recent call last)",
      "File \u001b[0;32m~/.local/share/virtualenvs/tutorials-ObfZMRtq/lib/python3.10/site-packages/altair/vegalite/v5/api.py:2004\u001b[0m, in \u001b[0;36mTopLevelMixin.to_dict\u001b[0;34m(self, validate, format, ignore, context)\u001b[0m\n\u001b[1;32m   2001\u001b[0m \u001b[38;5;66;03m# remaining to_dict calls are not at top level\u001b[39;00m\n\u001b[1;32m   2002\u001b[0m context[\u001b[38;5;124m\"\u001b[39m\u001b[38;5;124mtop_level\u001b[39m\u001b[38;5;124m\"\u001b[39m] \u001b[38;5;241m=\u001b[39m \u001b[38;5;28;01mFalse\u001b[39;00m\n\u001b[0;32m-> 2004\u001b[0m vegalite_spec: Any \u001b[38;5;241m=\u001b[39m \u001b[43m_top_schema_base\u001b[49m\u001b[43m(\u001b[49m\u001b[38;5;28;43msuper\u001b[39;49m\u001b[43m(\u001b[49m\u001b[43mTopLevelMixin\u001b[49m\u001b[43m,\u001b[49m\u001b[43m \u001b[49m\u001b[43mcopy\u001b[49m\u001b[43m)\u001b[49m\u001b[43m)\u001b[49m\u001b[38;5;241;43m.\u001b[39;49m\u001b[43mto_dict\u001b[49m\u001b[43m(\u001b[49m\n\u001b[1;32m   2005\u001b[0m \u001b[43m    \u001b[49m\u001b[43mvalidate\u001b[49m\u001b[38;5;241;43m=\u001b[39;49m\u001b[43mvalidate\u001b[49m\u001b[43m,\u001b[49m\u001b[43m \u001b[49m\u001b[43mignore\u001b[49m\u001b[38;5;241;43m=\u001b[39;49m\u001b[43mignore\u001b[49m\u001b[43m,\u001b[49m\u001b[43m \u001b[49m\u001b[43mcontext\u001b[49m\u001b[38;5;241;43m=\u001b[39;49m\u001b[38;5;28;43mdict\u001b[39;49m\u001b[43m(\u001b[49m\u001b[43mcontext\u001b[49m\u001b[43m,\u001b[49m\u001b[43m \u001b[49m\u001b[43mpre_transform\u001b[49m\u001b[38;5;241;43m=\u001b[39;49m\u001b[38;5;28;43;01mFalse\u001b[39;49;00m\u001b[43m)\u001b[49m\n\u001b[1;32m   2006\u001b[0m \u001b[43m\u001b[49m\u001b[43m)\u001b[49m\n\u001b[1;32m   2008\u001b[0m \u001b[38;5;66;03m# TODO: following entries are added after validation. Should they be validated?\u001b[39;00m\n\u001b[1;32m   2009\u001b[0m \u001b[38;5;28;01mif\u001b[39;00m is_top_level:\n\u001b[1;32m   2010\u001b[0m     \u001b[38;5;66;03m# since this is top-level we add $schema if it's missing\u001b[39;00m\n",
      "File \u001b[0;32m~/.local/share/virtualenvs/tutorials-ObfZMRtq/lib/python3.10/site-packages/altair/utils/schemapi.py:1169\u001b[0m, in \u001b[0;36mSchemaBase.to_dict\u001b[0;34m(self, validate, ignore, context)\u001b[0m\n\u001b[1;32m   1167\u001b[0m         \u001b[38;5;28mself\u001b[39m\u001b[38;5;241m.\u001b[39mvalidate(result)\n\u001b[1;32m   1168\u001b[0m     \u001b[38;5;28;01mexcept\u001b[39;00m jsonschema\u001b[38;5;241m.\u001b[39mValidationError \u001b[38;5;28;01mas\u001b[39;00m err:\n\u001b[0;32m-> 1169\u001b[0m         \u001b[38;5;28;01mraise\u001b[39;00m SchemaValidationError(\u001b[38;5;28mself\u001b[39m, err) \u001b[38;5;28;01mfrom\u001b[39;00m \u001b[38;5;28;01mNone\u001b[39;00m\n\u001b[1;32m   1170\u001b[0m \u001b[38;5;28;01mreturn\u001b[39;00m result\n",
      "\u001b[0;31mSchemaValidationError\u001b[0m: `HConcatChart` has no parameter named 'selection'\n\nExisting parameter names are:\nhconcat      center     description   params    title       \nautosize     config     name          resolve   transform   \nbackground   data       padding       spacing   usermeta    \nbounds       datasets                                       \n\nSee the help for `HConcatChart` to read the full description of these parameters"
     ]
    },
    {
     "data": {
      "text/plain": [
       "alt.HConcatChart(...)"
      ]
     },
     "execution_count": 21,
     "metadata": {},
     "output_type": "execute_result"
    }
   ],
   "source": [
    "users_ratings = (\n",
    "    ratings\n",
    "    .groupby('user_id', as_index=False)\n",
    "    .agg({'rating' : ['count', 'mean']})\n",
    "    .flatten_cols()\n",
    "    .merge(users, on='user_id')\n",
    ")\n",
    "\n",
    "# Membuat visualisasi atau chart berdasarkan jumlah rating dan rata-rata\n",
    "alt.hconcat(\n",
    "    filtered_hist('rating count', '# ratings / user', occupation_filter),\n",
    "    filtered_hist('rating mean', 'mean user rating', occupation_filter),\n",
    "    occupation_chart,\n",
    "    data=users_ratings\n",
    ")"
   ]
  },
  {
   "cell_type": "code",
   "execution_count": 22,
   "metadata": {
    "colab": {
     "base_uri": "https://localhost:8080/",
     "height": 370
    },
    "id": "b5ctBECYiMIF",
    "outputId": "f4c08b78-43ad-477a-99c5-aa7f7ac468ad"
   },
   "outputs": [
    {
     "ename": "SchemaValidationError",
     "evalue": "`HConcatChart` has no parameter named 'selection'\n\nExisting parameter names are:\nhconcat      center     description   params    title       \nautosize     config     name          resolve   transform   \nbackground   data       padding       spacing   usermeta    \nbounds       datasets                                       \n\nSee the help for `HConcatChart` to read the full description of these parameters",
     "output_type": "error",
     "traceback": [
      "\u001b[0;31m---------------------------------------------------------------------------\u001b[0m",
      "\u001b[0;31mSchemaValidationError\u001b[0m                     Traceback (most recent call last)",
      "File \u001b[0;32m~/.local/share/virtualenvs/tutorials-ObfZMRtq/lib/python3.10/site-packages/altair/vegalite/v5/api.py:2004\u001b[0m, in \u001b[0;36mTopLevelMixin.to_dict\u001b[0;34m(self, validate, format, ignore, context)\u001b[0m\n\u001b[1;32m   2001\u001b[0m \u001b[38;5;66;03m# remaining to_dict calls are not at top level\u001b[39;00m\n\u001b[1;32m   2002\u001b[0m context[\u001b[38;5;124m\"\u001b[39m\u001b[38;5;124mtop_level\u001b[39m\u001b[38;5;124m\"\u001b[39m] \u001b[38;5;241m=\u001b[39m \u001b[38;5;28;01mFalse\u001b[39;00m\n\u001b[0;32m-> 2004\u001b[0m vegalite_spec: Any \u001b[38;5;241m=\u001b[39m \u001b[43m_top_schema_base\u001b[49m\u001b[43m(\u001b[49m\u001b[38;5;28;43msuper\u001b[39;49m\u001b[43m(\u001b[49m\u001b[43mTopLevelMixin\u001b[49m\u001b[43m,\u001b[49m\u001b[43m \u001b[49m\u001b[43mcopy\u001b[49m\u001b[43m)\u001b[49m\u001b[43m)\u001b[49m\u001b[38;5;241;43m.\u001b[39;49m\u001b[43mto_dict\u001b[49m\u001b[43m(\u001b[49m\n\u001b[1;32m   2005\u001b[0m \u001b[43m    \u001b[49m\u001b[43mvalidate\u001b[49m\u001b[38;5;241;43m=\u001b[39;49m\u001b[43mvalidate\u001b[49m\u001b[43m,\u001b[49m\u001b[43m \u001b[49m\u001b[43mignore\u001b[49m\u001b[38;5;241;43m=\u001b[39;49m\u001b[43mignore\u001b[49m\u001b[43m,\u001b[49m\u001b[43m \u001b[49m\u001b[43mcontext\u001b[49m\u001b[38;5;241;43m=\u001b[39;49m\u001b[38;5;28;43mdict\u001b[39;49m\u001b[43m(\u001b[49m\u001b[43mcontext\u001b[49m\u001b[43m,\u001b[49m\u001b[43m \u001b[49m\u001b[43mpre_transform\u001b[49m\u001b[38;5;241;43m=\u001b[39;49m\u001b[38;5;28;43;01mFalse\u001b[39;49;00m\u001b[43m)\u001b[49m\n\u001b[1;32m   2006\u001b[0m \u001b[43m\u001b[49m\u001b[43m)\u001b[49m\n\u001b[1;32m   2008\u001b[0m \u001b[38;5;66;03m# TODO: following entries are added after validation. Should they be validated?\u001b[39;00m\n\u001b[1;32m   2009\u001b[0m \u001b[38;5;28;01mif\u001b[39;00m is_top_level:\n\u001b[1;32m   2010\u001b[0m     \u001b[38;5;66;03m# since this is top-level we add $schema if it's missing\u001b[39;00m\n",
      "File \u001b[0;32m~/.local/share/virtualenvs/tutorials-ObfZMRtq/lib/python3.10/site-packages/altair/utils/schemapi.py:1169\u001b[0m, in \u001b[0;36mSchemaBase.to_dict\u001b[0;34m(self, validate, ignore, context)\u001b[0m\n\u001b[1;32m   1167\u001b[0m         \u001b[38;5;28mself\u001b[39m\u001b[38;5;241m.\u001b[39mvalidate(result)\n\u001b[1;32m   1168\u001b[0m     \u001b[38;5;28;01mexcept\u001b[39;00m jsonschema\u001b[38;5;241m.\u001b[39mValidationError \u001b[38;5;28;01mas\u001b[39;00m err:\n\u001b[0;32m-> 1169\u001b[0m         \u001b[38;5;28;01mraise\u001b[39;00m SchemaValidationError(\u001b[38;5;28mself\u001b[39m, err) \u001b[38;5;28;01mfrom\u001b[39;00m \u001b[38;5;28;01mNone\u001b[39;00m\n\u001b[1;32m   1170\u001b[0m \u001b[38;5;28;01mreturn\u001b[39;00m result\n",
      "\u001b[0;31mSchemaValidationError\u001b[0m: `HConcatChart` has no parameter named 'selection'\n\nExisting parameter names are:\nhconcat      center     description   params    title       \nautosize     config     name          resolve   transform   \nbackground   data       padding       spacing   usermeta    \nbounds       datasets                                       \n\nSee the help for `HConcatChart` to read the full description of these parameters"
     ]
    },
    {
     "data": {
      "text/plain": [
       "alt.HConcatChart(...)"
      ]
     },
     "execution_count": 22,
     "metadata": {},
     "output_type": "execute_result"
    }
   ],
   "source": [
    "movies_ratings = movies.merge(\n",
    "    ratings\n",
    "    .groupby('movie_id', as_index=False)\n",
    "    .agg({'rating': ['count', 'mean']})\n",
    "    .flatten_cols(),\n",
    "    on='movie_id')\n",
    "\n",
    "genre_filter = alt.selection_multi(fields=['genre'])\n",
    "genre_chart = alt.Chart().mark_bar().encode(\n",
    "    x=\"count()\",\n",
    "    y=alt.Y('genre'),\n",
    "    color=alt.condition(\n",
    "        genre_filter,\n",
    "        alt.Color(\"genre:N\"),\n",
    "        alt.value('lightgray'))\n",
    ").properties(height=300, selection=genre_filter)\n",
    "\n",
    "# Menampilkan visualisasi\n",
    "alt.hconcat(\n",
    "    filtered_hist('rating count', '# ratings / movie', genre_filter),\n",
    "    filtered_hist('rating mean', 'mean movie rating', genre_filter),\n",
    "    genre_chart,\n",
    "    data=movies_ratings)\n"
   ]
  },
  {
   "cell_type": "code",
   "execution_count": 23,
   "metadata": {
    "colab": {
     "base_uri": "https://localhost:8080/",
     "height": 362
    },
    "id": "99aOVnKbjwRj",
    "outputId": "ca98e5fc-f62f-4ec2-8a70-e38783609231"
   },
   "outputs": [
    {
     "data": {
      "text/html": [
       "<div>\n",
       "<style scoped>\n",
       "    .dataframe tbody tr th:only-of-type {\n",
       "        vertical-align: middle;\n",
       "    }\n",
       "\n",
       "    .dataframe tbody tr th {\n",
       "        vertical-align: top;\n",
       "    }\n",
       "\n",
       "    .dataframe thead th {\n",
       "        text-align: right;\n",
       "    }\n",
       "</style>\n",
       "<table border=\"1\" class=\"dataframe\">\n",
       "  <thead>\n",
       "    <tr style=\"text-align: right;\">\n",
       "      <th></th>\n",
       "      <th>title</th>\n",
       "      <th>rating count</th>\n",
       "      <th>rating mean</th>\n",
       "    </tr>\n",
       "  </thead>\n",
       "  <tbody>\n",
       "    <tr>\n",
       "      <th>757</th>\n",
       "      <td>Lawnmower Man 2: Beyond Cyberspace (1996)</td>\n",
       "      <td>21</td>\n",
       "      <td>1.714</td>\n",
       "    </tr>\n",
       "    <tr>\n",
       "      <th>456</th>\n",
       "      <td>Free Willy 3: The Rescue (1997)</td>\n",
       "      <td>27</td>\n",
       "      <td>1.741</td>\n",
       "    </tr>\n",
       "    <tr>\n",
       "      <th>687</th>\n",
       "      <td>Leave It to Beaver (1997)</td>\n",
       "      <td>44</td>\n",
       "      <td>1.841</td>\n",
       "    </tr>\n",
       "    <tr>\n",
       "      <th>367</th>\n",
       "      <td>Bio-Dome (1996)</td>\n",
       "      <td>31</td>\n",
       "      <td>1.903</td>\n",
       "    </tr>\n",
       "    <tr>\n",
       "      <th>1214</th>\n",
       "      <td>Barb Wire (1996)</td>\n",
       "      <td>30</td>\n",
       "      <td>1.933</td>\n",
       "    </tr>\n",
       "    <tr>\n",
       "      <th>742</th>\n",
       "      <td>Crow: City of Angels, The (1996)</td>\n",
       "      <td>39</td>\n",
       "      <td>1.949</td>\n",
       "    </tr>\n",
       "    <tr>\n",
       "      <th>889</th>\n",
       "      <td>Mortal Kombat: Annihilation (1997)</td>\n",
       "      <td>43</td>\n",
       "      <td>1.953</td>\n",
       "    </tr>\n",
       "    <tr>\n",
       "      <th>374</th>\n",
       "      <td>Showgirls (1995)</td>\n",
       "      <td>23</td>\n",
       "      <td>1.957</td>\n",
       "    </tr>\n",
       "    <tr>\n",
       "      <th>1036</th>\n",
       "      <td>Grease 2 (1982)</td>\n",
       "      <td>24</td>\n",
       "      <td>2.000</td>\n",
       "    </tr>\n",
       "    <tr>\n",
       "      <th>563</th>\n",
       "      <td>Tales from the Hood (1995)</td>\n",
       "      <td>27</td>\n",
       "      <td>2.037</td>\n",
       "    </tr>\n",
       "  </tbody>\n",
       "</table>\n",
       "</div>"
      ],
      "text/plain": [
       "                                          title  rating count  rating mean\n",
       "757   Lawnmower Man 2: Beyond Cyberspace (1996)            21        1.714\n",
       "456             Free Willy 3: The Rescue (1997)            27        1.741\n",
       "687                   Leave It to Beaver (1997)            44        1.841\n",
       "367                             Bio-Dome (1996)            31        1.903\n",
       "1214                           Barb Wire (1996)            30        1.933\n",
       "742            Crow: City of Angels, The (1996)            39        1.949\n",
       "889          Mortal Kombat: Annihilation (1997)            43        1.953\n",
       "374                            Showgirls (1995)            23        1.957\n",
       "1036                            Grease 2 (1982)            24        2.000\n",
       "563                  Tales from the Hood (1995)            27        2.037"
      ]
     },
     "execution_count": 23,
     "metadata": {},
     "output_type": "execute_result"
    }
   ],
   "source": [
    "(movies_ratings[['title', 'rating count', 'rating mean']]\n",
    " .mask('rating count', lambda x : x > 20)\n",
    " .sort_values(by='rating mean', ascending=True)\n",
    " .head(10)\n",
    " )"
   ]
  },
  {
   "cell_type": "markdown",
   "metadata": {
    "id": "lwLP_gHdU4BY"
   },
   "source": [
    "# **RECOMMENDER**\n",
    "\n",
    "<img src=\"https://dicoding-web-img.sgp1.cdn.digitaloceanspaces.com/original/academy/dos-c556df464b8f49a1a013f375aa9bf28220240625164230.jpeg\" />"
   ]
  },
  {
   "cell_type": "code",
   "execution_count": 24,
   "metadata": {
    "id": "nOoPfB-mVgn1"
   },
   "outputs": [],
   "source": [
    "def split_dataframe(df, holdout_fraction=0.1):\n",
    "  test = df.sample(frac=holdout_fraction, replace=False)\n",
    "  train = df[~df.index.isin(test.index)]\n",
    "\n",
    "  return train, test"
   ]
  },
  {
   "cell_type": "code",
   "execution_count": 25,
   "metadata": {
    "colab": {
     "base_uri": "https://localhost:8080/"
    },
    "id": "rVmuctyQcVyC",
    "outputId": "2537ae93-4223-4634-ae79-212bfb39fcbe"
   },
   "outputs": [
    {
     "data": {
      "text/plain": [
       "array([['195', '241'],\n",
       "       ['185', '301'],\n",
       "       ['21', '376'],\n",
       "       ...,\n",
       "       ['275', '1089'],\n",
       "       ['12', '224'],\n",
       "       ['11', '202']], dtype=object)"
      ]
     },
     "execution_count": 25,
     "metadata": {},
     "output_type": "execute_result"
    }
   ],
   "source": [
    "ratings[['user_id', 'movie_id']].values"
   ]
  },
  {
   "cell_type": "code",
   "execution_count": 26,
   "metadata": {
    "id": "k9_bPuHjVlU3"
   },
   "outputs": [],
   "source": [
    "def build_rating_sparse_tensor(ratings_df):\n",
    "  indices = ratings_df[['user_id', 'movie_id']].values\n",
    "  values = ratings_df['rating'].values\n",
    "\n",
    "  return tf.SparseTensor(\n",
    "      indices=indices,\n",
    "      values=values,\n",
    "      dense_shape=(users.shape[0], movies.shape[0])\n",
    "  )"
   ]
  },
  {
   "cell_type": "code",
   "execution_count": 27,
   "metadata": {
    "id": "kucr3YrTgW1X"
   },
   "outputs": [],
   "source": [
    "def sparse_mean_square_error(sparse_ratings, user_embeddings, movie_embeddings):\n",
    "\n",
    "  # slicing the result of matmul as indices frpm non-null values of sparse_ratings\n",
    "  predictions = tf.gather_nd(\n",
    "      # calculate the matrix multipication for users and movies\n",
    "      tf.matmul(user_embeddings, movie_embeddings,  transpose_b=True),\n",
    "      indices=sparse_ratings.indices\n",
    "  )\n",
    "\n",
    "  # calculate loss\n",
    "  loss = tf.losses.mean_squared_error(sparse_ratings.values,predictions)\n",
    "\n",
    "  return loss"
   ]
  },
  {
   "cell_type": "code",
   "execution_count": 28,
   "metadata": {
    "id": "o4FN_hLgbScq"
   },
   "outputs": [],
   "source": [
    "class CFModel(object):\n",
    "  def __init__(self, embedding_vars, loss, metrics=None):\n",
    "    self._embedding_vars=embedding_vars\n",
    "    self._loss=loss\n",
    "    self._metrics=metrics\n",
    "    self._embeddings={k : None for k in embedding_vars}\n",
    "    self._session=None\n",
    "\n",
    "  @property\n",
    "  def embeddings(self):\n",
    "    return self._embeddings\n",
    "\n",
    "\n",
    "  def train(self, num_iterations=100, learning_rate=1.0,\n",
    "            plot_results=True,\n",
    "            optimizer=tf.train.GradientDescentOptimizer):\n",
    "\n",
    "    with self._loss.graph.as_default():\n",
    "      opt = optimizer(learning_rate)\n",
    "      train_op = opt.minimize(self._loss)\n",
    "      local_init_op = tf.group(\n",
    "          tf.variables_initializer(opt.variables()),\n",
    "          tf.local_variables_initializer()\n",
    "      )\n",
    "\n",
    "      if self._session is None:\n",
    "        self._session = tf.Session()\n",
    "        with self._session.as_default():\n",
    "          self._session.run(tf.global_variables_initializer())\n",
    "          self._session.run(tf.tables_initializer())\n",
    "          tf.train.start_queue_runners()\n",
    "\n",
    "    with self._session.as_default():\n",
    "      local_init_op.run()\n",
    "      iterations = []\n",
    "      metrics = self._metrics or ({},)\n",
    "      metrics_vals = [collections.defaultdict(list) for _ in self._metrics]\n",
    "\n",
    "      for i in range(num_iterations + 1):\n",
    "        _, results = self._session.run((train_op, metrics))\n",
    "        if (i % 10 == 0) or i == num_iterations:\n",
    "          print(\"\\r iteration %d: \" % i + \", \".join(\n",
    "              [\"%s=%f\" % (k, v) for r in results for k, v in r.items()]),\n",
    "                end='')\n",
    "\n",
    "          iterations.append(i)\n",
    "          for matric_val, result in zip(metrics_vals, results):\n",
    "            for k, v in result.items():\n",
    "              matric_val[k].append(v)\n",
    "\n",
    "      for k, v in self._embedding_vars.items():\n",
    "        self.embeddings[k] = v.eval()\n",
    "\n",
    "      if plot_results:\n",
    "        num_subplots = len(metrics)+1\n",
    "        fig = plt.figure()\n",
    "        fig.set_size_inches(num_subplots*10, 8)\n",
    "        for i, metric_vals in enumerate(metrics_vals):\n",
    "          ax = fig.add_subplot(1, num_subplots, i+1)\n",
    "          for k, v in metric_vals.items():\n",
    "            ax.plot(iterations, v, label=k)\n",
    "          ax.set_xlim([1, num_iterations])\n",
    "          ax.legend()\n",
    "\n",
    "      return results\n",
    "\n",
    "\n",
    "\n"
   ]
  },
  {
   "cell_type": "code",
   "execution_count": 29,
   "metadata": {
    "id": "r4K316Wfu_X7"
   },
   "outputs": [],
   "source": [
    "def build_model(ratings, embedding_dims, init_stddev):\n",
    "  train_ratings, test_ratings = split_dataframe(ratings)\n",
    "  A_train = build_rating_sparse_tensor(train_ratings)\n",
    "  A_test = build_rating_sparse_tensor(test_ratings)\n",
    "\n",
    "  U = tf.Variable(tf.random_normal(\n",
    "      [A_train.dense_shape[0], embedding_dims], stddev=init_stddev))\n",
    "  M = tf.Variable(tf.random_normal(\n",
    "      [A_train.dense_shape[1], embedding_dims], stddev=init_stddev))\n",
    "\n",
    "  train_loss = sparse_mean_square_error(A_train, U, M)\n",
    "  test_loss = sparse_mean_square_error(A_test, U, M)\n",
    "\n",
    "  metrics = {\n",
    "      'train_error' : train_loss,\n",
    "      'test_error' : test_loss\n",
    "  }\n",
    "\n",
    "  embeddings = {\n",
    "      'user_id' : U,\n",
    "      'movie_id' : M\n",
    "  }\n",
    "\n",
    "  return CFModel(embeddings, train_loss, metrics=[metrics])\n"
   ]
  },
  {
   "cell_type": "code",
   "execution_count": 30,
   "metadata": {
    "colab": {
     "base_uri": "https://localhost:8080/",
     "height": 711
    },
    "id": "T-tayFgCzOMT",
    "outputId": "7a85e1e0-8e4c-41ac-b9eb-fcdbae754163"
   },
   "outputs": [
    {
     "name": "stderr",
     "output_type": "stream",
     "text": [
      "WARNING: All log messages before absl::InitializeLog() is called are written to STDERR\n",
      "I0000 00:00:1732590039.721733   41643 mlir_graph_optimization_pass.cc:401] MLIR V1 optimization pass is not enabled\n"
     ]
    },
    {
     "name": "stdout",
     "output_type": "stream",
     "text": [
      " iteration 1000: train_error=0.377417, test_error=1.358038"
     ]
    },
    {
     "data": {
      "text/plain": [
       "[{'train_error': 0.37741715, 'test_error': 1.3580381}]"
      ]
     },
     "execution_count": 30,
     "metadata": {},
     "output_type": "execute_result"
    },
    {
     "data": {
      "image/png": "[encoded data removed]",
      "text/plain": [
       "<Figure size 2000x800 with 1 Axes>"
      ]
     },
     "metadata": {},
     "output_type": "display_data"
    }
   ],
   "source": [
    "model = build_model(ratings, embedding_dims=30, init_stddev=0.5)\n",
    "model.train(num_iterations=1000, learning_rate=10)"
   ]
  },
  {
   "cell_type": "markdown",
   "metadata": {
    "id": "N_yjTTnJyEgj"
   },
   "source": [
    "# **MEASURE SIMILARITY**"
   ]
  },
  {
   "cell_type": "code",
   "execution_count": 31,
   "metadata": {
    "id": "70Fqa_Mk8_Kq"
   },
   "outputs": [],
   "source": [
    "DOT = 'dot'\n",
    "COSINE = 'cosine'\n",
    "\n",
    "def compute_scores(query_embedding, item_embeddings, metric=DOT):\n",
    "  u = query_embedding\n",
    "  V = item_embeddings\n",
    "\n",
    "  if metric == COSINE:\n",
    "    V = V / np.linalg.norm(V, axis=1, keepdims=True)\n",
    "    u = u / np.linalg.norm(u)\n",
    "\n",
    "  scores = V.dot(u.T)\n",
    "\n",
    "  return scores\n"
   ]
  },
  {
   "cell_type": "markdown",
   "metadata": {
    "id": "RuhPPvJv1b73"
   },
   "source": [
    "# **INFERENCE**"
   ]
  },
  {
   "cell_type": "code",
   "execution_count": 32,
   "metadata": {
    "id": "2_M3Wb9B0e8x"
   },
   "outputs": [],
   "source": [
    "def user_recommendations(model, measure=DOT, exclude_rated=True, k=6):\n",
    "  if USER_RATINGS:\n",
    "    scores = compute_scores(\n",
    "        model.embeddings['user_id'][942],\n",
    "        model.embeddings['movie_id'],\n",
    "        measure\n",
    "    )\n",
    "    score_key = measure + ' score'\n",
    "\n",
    "    df = pd.DataFrame({\n",
    "       score_key : list(scores),\n",
    "        'movie_id' : movies['movie_id'],\n",
    "        'title' : movies['title'],\n",
    "        'genre' : movies['all_genres'],\n",
    "    })\n",
    "\n",
    "  if exclude_rated:\n",
    "    rated_movies = ratings[ratings.user_id == \"942\"][\"movie_id\"].values\n",
    "    df = df[df.movie_id.apply(lambda movie_id: movie_id not in rated_movies)]\n",
    "\n",
    "\n",
    "\n",
    "  display.display(df.sort_values(score_key, ascending=False).head(k))"
   ]
  },
  {
   "cell_type": "code",
   "execution_count": 33,
   "metadata": {
    "colab": {
     "base_uri": "https://localhost:8080/",
     "height": 457
    },
    "id": "c30dya4w0h5Y",
    "outputId": "1ad77253-f1cb-4246-dc67-6397c78f2bbc"
   },
   "outputs": [
    {
     "data": {
      "text/html": [
       "<div>\n",
       "<style scoped>\n",
       "    .dataframe tbody tr th:only-of-type {\n",
       "        vertical-align: middle;\n",
       "    }\n",
       "\n",
       "    .dataframe tbody tr th {\n",
       "        vertical-align: top;\n",
       "    }\n",
       "\n",
       "    .dataframe thead th {\n",
       "        text-align: right;\n",
       "    }\n",
       "</style>\n",
       "<table border=\"1\" class=\"dataframe\">\n",
       "  <thead>\n",
       "    <tr style=\"text-align: right;\">\n",
       "      <th></th>\n",
       "      <th>dot score</th>\n",
       "      <th>movie_id</th>\n",
       "      <th>title</th>\n",
       "      <th>genre</th>\n",
       "    </tr>\n",
       "  </thead>\n",
       "  <tbody>\n",
       "    <tr>\n",
       "      <th>206</th>\n",
       "      <td>6.236</td>\n",
       "      <td>206</td>\n",
       "      <td>Cyrano de Bergerac (1990)</td>\n",
       "      <td>Action-Drama-Romance</td>\n",
       "    </tr>\n",
       "    <tr>\n",
       "      <th>693</th>\n",
       "      <td>6.094</td>\n",
       "      <td>693</td>\n",
       "      <td>Persuasion (1995)</td>\n",
       "      <td>Romance</td>\n",
       "    </tr>\n",
       "    <tr>\n",
       "      <th>318</th>\n",
       "      <td>6.060</td>\n",
       "      <td>318</td>\n",
       "      <td>Everyone Says I Love You (1996)</td>\n",
       "      <td>Comedy-Musical-Romance</td>\n",
       "    </tr>\n",
       "    <tr>\n",
       "      <th>866</th>\n",
       "      <td>5.978</td>\n",
       "      <td>866</td>\n",
       "      <td>Whole Wide World, The (1996)</td>\n",
       "      <td>Drama</td>\n",
       "    </tr>\n",
       "    <tr>\n",
       "      <th>1102</th>\n",
       "      <td>5.857</td>\n",
       "      <td>1102</td>\n",
       "      <td>Trust (1990)</td>\n",
       "      <td>Comedy-Drama</td>\n",
       "    </tr>\n",
       "    <tr>\n",
       "      <th>42</th>\n",
       "      <td>5.737</td>\n",
       "      <td>42</td>\n",
       "      <td>Disclosure (1994)</td>\n",
       "      <td>Drama-Thriller</td>\n",
       "    </tr>\n",
       "  </tbody>\n",
       "</table>\n",
       "</div>"
      ],
      "text/plain": [
       "      dot score movie_id                            title  \\\n",
       "206       6.236      206        Cyrano de Bergerac (1990)   \n",
       "693       6.094      693                Persuasion (1995)   \n",
       "318       6.060      318  Everyone Says I Love You (1996)   \n",
       "866       5.978      866     Whole Wide World, The (1996)   \n",
       "1102      5.857     1102                     Trust (1990)   \n",
       "42        5.737       42                Disclosure (1994)   \n",
       "\n",
       "                       genre  \n",
       "206     Action-Drama-Romance  \n",
       "693                  Romance  \n",
       "318   Comedy-Musical-Romance  \n",
       "866                    Drama  \n",
       "1102            Comedy-Drama  \n",
       "42            Drama-Thriller  "
      ]
     },
     "metadata": {},
     "output_type": "display_data"
    },
    {
     "data": {
      "text/html": [
       "<div>\n",
       "<style scoped>\n",
       "    .dataframe tbody tr th:only-of-type {\n",
       "        vertical-align: middle;\n",
       "    }\n",
       "\n",
       "    .dataframe tbody tr th {\n",
       "        vertical-align: top;\n",
       "    }\n",
       "\n",
       "    .dataframe thead th {\n",
       "        text-align: right;\n",
       "    }\n",
       "</style>\n",
       "<table border=\"1\" class=\"dataframe\">\n",
       "  <thead>\n",
       "    <tr style=\"text-align: right;\">\n",
       "      <th></th>\n",
       "      <th>cosine score</th>\n",
       "      <th>movie_id</th>\n",
       "      <th>title</th>\n",
       "      <th>genre</th>\n",
       "    </tr>\n",
       "  </thead>\n",
       "  <tbody>\n",
       "    <tr>\n",
       "      <th>287</th>\n",
       "      <td>0.671</td>\n",
       "      <td>287</td>\n",
       "      <td>Scream (1996)</td>\n",
       "      <td>Horror-Thriller</td>\n",
       "    </tr>\n",
       "    <tr>\n",
       "      <th>602</th>\n",
       "      <td>0.650</td>\n",
       "      <td>602</td>\n",
       "      <td>Rear Window (1954)</td>\n",
       "      <td>Mystery-Thriller</td>\n",
       "    </tr>\n",
       "    <tr>\n",
       "      <th>819</th>\n",
       "      <td>0.647</td>\n",
       "      <td>819</td>\n",
       "      <td>Space Jam (1996)</td>\n",
       "      <td>Adventure-Animation-Children-Comedy-Fantasy</td>\n",
       "    </tr>\n",
       "    <tr>\n",
       "      <th>526</th>\n",
       "      <td>0.627</td>\n",
       "      <td>526</td>\n",
       "      <td>Gandhi (1982)</td>\n",
       "      <td>Drama</td>\n",
       "    </tr>\n",
       "    <tr>\n",
       "      <th>471</th>\n",
       "      <td>0.626</td>\n",
       "      <td>471</td>\n",
       "      <td>Dragonheart (1996)</td>\n",
       "      <td>Action-Adventure-Fantasy</td>\n",
       "    </tr>\n",
       "    <tr>\n",
       "      <th>832</th>\n",
       "      <td>0.614</td>\n",
       "      <td>832</td>\n",
       "      <td>Bulletproof (1996)</td>\n",
       "      <td>Action</td>\n",
       "    </tr>\n",
       "  </tbody>\n",
       "</table>\n",
       "</div>"
      ],
      "text/plain": [
       "     cosine score movie_id               title  \\\n",
       "287         0.671      287       Scream (1996)   \n",
       "602         0.650      602  Rear Window (1954)   \n",
       "819         0.647      819    Space Jam (1996)   \n",
       "526         0.627      526       Gandhi (1982)   \n",
       "471         0.626      471  Dragonheart (1996)   \n",
       "832         0.614      832  Bulletproof (1996)   \n",
       "\n",
       "                                           genre  \n",
       "287                              Horror-Thriller  \n",
       "602                             Mystery-Thriller  \n",
       "819  Adventure-Animation-Children-Comedy-Fantasy  \n",
       "526                                        Drama  \n",
       "471                     Action-Adventure-Fantasy  \n",
       "832                                       Action  "
      ]
     },
     "metadata": {},
     "output_type": "display_data"
    }
   ],
   "source": [
    "USER_RATINGS=True\n",
    "user_recommendations(model, measure=DOT, k=6)\n",
    "user_recommendations(model, measure=COSINE, k=6)"
   ]
  },
  {
   "cell_type": "code",
   "execution_count": 34,
   "metadata": {
    "id": "4QK_pNIxB7Qf"
   },
   "outputs": [],
   "source": [
    "def movie_neighbors(model, title_substring, measure=DOT, k=6):\n",
    "  # Mencari film berdasarkan judul yang dimasukkan.\n",
    "  ids =  movies[movies['title'].str.contains(title_substring)].index.values\n",
    "  titles = movies.iloc[ids]['title'].values\n",
    "  if len(titles) == 0:\n",
    "    raise ValueError(\"Found no movies with title %s\" % title_substring)\n",
    "  print(\"Nearest neighbors of : %s.\" % titles[0])\n",
    "  if len(titles) > 1:\n",
    "    print(\"[Found more than one matching movie. Other candidates: {}]\".format(\n",
    "        \", \".join(titles[1:])))\n",
    "  movie_id = ids[0]\n",
    "  scores = compute_scores(\n",
    "      model.embeddings[\"movie_id\"][movie_id], model.embeddings[\"movie_id\"],\n",
    "      measure)\n",
    "  score_key = measure + ' score'\n",
    "  df = pd.DataFrame({\n",
    "      score_key: list(scores),\n",
    "      'titles': movies['title'],\n",
    "      'genres': movies['all_genres']\n",
    "  })\n",
    "  display.display(df.sort_values([score_key], ascending=False).head(k))\n"
   ]
  },
  {
   "cell_type": "code",
   "execution_count": 35,
   "metadata": {
    "colab": {
     "base_uri": "https://localhost:8080/",
     "height": 492
    },
    "id": "2bxLlwqvCJKP",
    "outputId": "425b89d0-25f8-4a2e-fbc3-0a6755bf3507"
   },
   "outputs": [
    {
     "name": "stdout",
     "output_type": "stream",
     "text": [
      "Nearest neighbors of : Breakfast at Tiffany's (1961).\n"
     ]
    },
    {
     "data": {
      "text/html": [
       "<div>\n",
       "<style scoped>\n",
       "    .dataframe tbody tr th:only-of-type {\n",
       "        vertical-align: middle;\n",
       "    }\n",
       "\n",
       "    .dataframe tbody tr th {\n",
       "        vertical-align: top;\n",
       "    }\n",
       "\n",
       "    .dataframe thead th {\n",
       "        text-align: right;\n",
       "    }\n",
       "</style>\n",
       "<table border=\"1\" class=\"dataframe\">\n",
       "  <thead>\n",
       "    <tr style=\"text-align: right;\">\n",
       "      <th></th>\n",
       "      <th>dot score</th>\n",
       "      <th>titles</th>\n",
       "      <th>genres</th>\n",
       "    </tr>\n",
       "  </thead>\n",
       "  <tbody>\n",
       "    <tr>\n",
       "      <th>130</th>\n",
       "      <td>11.581</td>\n",
       "      <td>Breakfast at Tiffany's (1961)</td>\n",
       "      <td>Drama-Romance</td>\n",
       "    </tr>\n",
       "    <tr>\n",
       "      <th>557</th>\n",
       "      <td>8.129</td>\n",
       "      <td>Heavenly Creatures (1994)</td>\n",
       "      <td>Drama-Fantasy-Thriller</td>\n",
       "    </tr>\n",
       "    <tr>\n",
       "      <th>13</th>\n",
       "      <td>7.522</td>\n",
       "      <td>Postino, Il (1994)</td>\n",
       "      <td>Drama-Romance</td>\n",
       "    </tr>\n",
       "    <tr>\n",
       "      <th>612</th>\n",
       "      <td>7.469</td>\n",
       "      <td>My Man Godfrey (1936)</td>\n",
       "      <td>Comedy</td>\n",
       "    </tr>\n",
       "    <tr>\n",
       "      <th>18</th>\n",
       "      <td>7.205</td>\n",
       "      <td>Antonia's Line (1995)</td>\n",
       "      <td>Drama</td>\n",
       "    </tr>\n",
       "    <tr>\n",
       "      <th>427</th>\n",
       "      <td>6.754</td>\n",
       "      <td>Harold and Maude (1971)</td>\n",
       "      <td>Comedy</td>\n",
       "    </tr>\n",
       "  </tbody>\n",
       "</table>\n",
       "</div>"
      ],
      "text/plain": [
       "     dot score                         titles                  genres\n",
       "130     11.581  Breakfast at Tiffany's (1961)           Drama-Romance\n",
       "557      8.129      Heavenly Creatures (1994)  Drama-Fantasy-Thriller\n",
       "13       7.522             Postino, Il (1994)           Drama-Romance\n",
       "612      7.469          My Man Godfrey (1936)                  Comedy\n",
       "18       7.205          Antonia's Line (1995)                   Drama\n",
       "427      6.754        Harold and Maude (1971)                  Comedy"
      ]
     },
     "metadata": {},
     "output_type": "display_data"
    },
    {
     "name": "stdout",
     "output_type": "stream",
     "text": [
      "Nearest neighbors of : Breakfast at Tiffany's (1961).\n"
     ]
    },
    {
     "data": {
      "text/html": [
       "<div>\n",
       "<style scoped>\n",
       "    .dataframe tbody tr th:only-of-type {\n",
       "        vertical-align: middle;\n",
       "    }\n",
       "\n",
       "    .dataframe tbody tr th {\n",
       "        vertical-align: top;\n",
       "    }\n",
       "\n",
       "    .dataframe thead th {\n",
       "        text-align: right;\n",
       "    }\n",
       "</style>\n",
       "<table border=\"1\" class=\"dataframe\">\n",
       "  <thead>\n",
       "    <tr style=\"text-align: right;\">\n",
       "      <th></th>\n",
       "      <th>cosine score</th>\n",
       "      <th>titles</th>\n",
       "      <th>genres</th>\n",
       "    </tr>\n",
       "  </thead>\n",
       "  <tbody>\n",
       "    <tr>\n",
       "      <th>130</th>\n",
       "      <td>1.000</td>\n",
       "      <td>Breakfast at Tiffany's (1961)</td>\n",
       "      <td>Drama-Romance</td>\n",
       "    </tr>\n",
       "    <tr>\n",
       "      <th>13</th>\n",
       "      <td>0.739</td>\n",
       "      <td>Postino, Il (1994)</td>\n",
       "      <td>Drama-Romance</td>\n",
       "    </tr>\n",
       "    <tr>\n",
       "      <th>557</th>\n",
       "      <td>0.681</td>\n",
       "      <td>Heavenly Creatures (1994)</td>\n",
       "      <td>Drama-Fantasy-Thriller</td>\n",
       "    </tr>\n",
       "    <tr>\n",
       "      <th>18</th>\n",
       "      <td>0.671</td>\n",
       "      <td>Antonia's Line (1995)</td>\n",
       "      <td>Drama</td>\n",
       "    </tr>\n",
       "    <tr>\n",
       "      <th>492</th>\n",
       "      <td>0.666</td>\n",
       "      <td>Thin Man, The (1934)</td>\n",
       "      <td>Mystery</td>\n",
       "    </tr>\n",
       "    <tr>\n",
       "      <th>161</th>\n",
       "      <td>0.661</td>\n",
       "      <td>On Golden Pond (1981)</td>\n",
       "      <td>Drama</td>\n",
       "    </tr>\n",
       "  </tbody>\n",
       "</table>\n",
       "</div>"
      ],
      "text/plain": [
       "     cosine score                         titles                  genres\n",
       "130         1.000  Breakfast at Tiffany's (1961)           Drama-Romance\n",
       "13          0.739             Postino, Il (1994)           Drama-Romance\n",
       "557         0.681      Heavenly Creatures (1994)  Drama-Fantasy-Thriller\n",
       "18          0.671          Antonia's Line (1995)                   Drama\n",
       "492         0.666           Thin Man, The (1934)                 Mystery\n",
       "161         0.661          On Golden Pond (1981)                   Drama"
      ]
     },
     "metadata": {},
     "output_type": "display_data"
    }
   ],
   "source": [
    "movie_neighbors(model, \"fast\", DOT)\n",
    "movie_neighbors(model, \"fast\", COSINE)\n"
   ]
  },
  {
   "cell_type": "code",
   "execution_count": null,
   "metadata": {
    "id": "x7BehNi1CMlF"
   },
   "outputs": [],
   "source": []
  }
 ],
 "metadata": {
  "colab": {
   "authorship_tag": "ABX9TyPglVZZKeG360dHaE777ZaR",
   "include_colab_link": true,
   "provenance": []
  },
  "kernelspec": {
   "display_name": "Python 3 (ipykernel)",
   "language": "python",
   "name": "python3"
  },
  "language_info": {
   "codemirror_mode": {
    "name": "ipython",
    "version": 3
   },
   "file_extension": ".py",
   "mimetype": "text/x-python",
   "name": "python",
   "nbconvert_exporter": "python",
   "pygments_lexer": "ipython3",
   "version": "3.10.15"
  }
 },
 "nbformat": 4,
 "nbformat_minor": 4
}
